{
 "cells": [
  {
   "cell_type": "markdown",
   "id": "configured-negotiation",
   "metadata": {},
   "source": [
    "# Assignment 3 - Divide-n-Conquer Algorithms in Python\n",
    "\n",
    "_This assignment is a part of the course [\"Data Structures and Algorithms in Python\"](https://jovian.ai/learn/data-structures-and-algorithms-in-python)._\n",
    "\n",
    "In this assignment, you will implement an efficient algorithm for polynomial multiplication.\n",
    "\n",
    "As you go through this notebook, you will find the symbol **???** in certain places. To complete this assignment, you must replace all the **???** with appropriate values, expressions or statements to ensure that the notebook runs properly end-to-end. \n",
    "\n",
    "**Guidelines**\n",
    "\n",
    "1. Make sure to run all the code cells, otherwise you may get errors like `NameError` for undefined variables.\n",
    "2. Do not change variable names, delete cells or disturb other existing code. It may cause problems during evaluation.\n",
    "3. In some cases, you may need to add some code cells or new statements before or after the line of code containing the **???**. \n",
    "4. Since you'll be using a temporary online service for code execution, save your work by running `jovian.commit` at regular intervals.\n",
    "5. Questions marked **(Optional)** will not be considered for evaluation, and can be skipped. They are for your learning.\n",
    "6. If you are stuck, you can ask for help on the [community forum] (TODO - add link). Post errors or ask for hints, but **please don't ask for OR share the full working answer code** on the forum.\n",
    "7. There are some tests included with this notebook to help you test your implementation. However, after submission your code will be tested with some hidden test cases. Make sure to test your code exhaustively to cover all edge cases.\n",
    "\n",
    "\n",
    "**Important Links**\n",
    "\n",
    "* Submit your work here: https://jovian.ai/learn/data-structures-and-algorithms-in-python/assignment/assignment-3-sorting-and-divide-conquer-practice\n",
    "* Ask questions and get help: https://jovian.ai/forum/c/data-structures-and-algorithms-in-python/assignment-3/89\n",
    "* Lesson 3 video for review: https://jovian.ai/learn/data-structures-and-algorithms-in-python/lesson/lesson-3-sorting-algorithms-and-divide-and-conquer\n",
    "* Lesson 3 notebook for review: https://jovian.ai/aakashns/python-sorting-divide-and-conquer\n"
   ]
  },
  {
   "cell_type": "markdown",
   "id": "martial-gates",
   "metadata": {},
   "source": [
    "### How to Run the Code and Save Your Work\n",
    "\n",
    "**Option 1: Running using free online resources (1-click, recommended)**: Click the **Run** button at the top of this page and select **Run on Binder**. You can also select \"Run on Colab\" or \"Run on Kaggle\", but you'll need to create an account on [Google Colab](https://colab.research.google.com) or [Kaggle](https://kaggle.com) to use these platforms.\n",
    "\n",
    "\n",
    "**Option 2: Running on your computer locally**: To run the code on your computer locally, you'll need to set up [Python](https://www.python.org) & [Conda](https://docs.conda.io/projects/conda/en/latest/user-guide/install/), download the notebook and install the required libraries. Click the **Run** button at the top of this page, select the **Run Locally** option, and follow the instructions.\n",
    "\n",
    "**Saving your work**: You can save a snapshot of the assignment to your [Jovian](https://jovian.ai) profile, so that you can access it later and continue your work. Keep saving your work by running `jovian.commit` from time to time."
   ]
  },
  {
   "cell_type": "code",
   "execution_count": 1,
   "id": "strategic-basic",
   "metadata": {},
   "outputs": [],
   "source": [
    "project='python-divide-and-conquer-assignment'"
   ]
  },
  {
   "cell_type": "code",
   "execution_count": 2,
   "id": "blond-outdoors",
   "metadata": {},
   "outputs": [],
   "source": [
    "!pip install jovian --upgrade --quiet"
   ]
  },
  {
   "cell_type": "code",
   "execution_count": 3,
   "id": "excellent-pledge",
   "metadata": {},
   "outputs": [
    {
     "data": {
      "application/javascript": [
       "window.require && require([\"base/js/namespace\"],function(Jupyter){Jupyter.notebook.save_checkpoint()})"
      ],
      "text/plain": [
       "<IPython.core.display.Javascript object>"
      ]
     },
     "metadata": {},
     "output_type": "display_data"
    },
    {
     "name": "stdout",
     "output_type": "stream",
     "text": [
      "[jovian] Attempting to save notebook..\u001b[0m\n",
      "[jovian] Updating notebook \"mrittrukhuda/python-divide-and-conquer-assignment\" on https://jovian.ai\u001b[0m\n",
      "[jovian] Uploading notebook..\u001b[0m\n",
      "[jovian] Uploading additional files...\u001b[0m\n",
      "[jovian] Committed successfully! https://jovian.ai/mrittrukhuda/python-divide-and-conquer-assignment\u001b[0m\n"
     ]
    },
    {
     "data": {
      "text/plain": [
       "'https://jovian.ai/mrittrukhuda/python-divide-and-conquer-assignment'"
      ]
     },
     "execution_count": 3,
     "metadata": {},
     "output_type": "execute_result"
    }
   ],
   "source": [
    "import jovian\n",
    "jovian.commit(project=project, privacy='secret', environment=None)"
   ]
  },
  {
   "cell_type": "markdown",
   "id": "progressive-compatibility",
   "metadata": {},
   "source": [
    "## Problem Statement - Polynomial Multiplication\n",
    "\n",
    "> Given two polynomials represented by two lists, write a function that efficiently multiplies given two polynomials. For example, the lists `[2, 0, 5, 7]` and `[3, 4, 2]` represent the polynomials $2 + 5x^2 + 7x^3$ and $3 + 4x + 2x^2$. \n",
    "> \n",
    "> Their product is \n",
    ">\n",
    "> $(2 \\times 3) + (2 \\times 4 + 0 \\times 3)x + (2 \\times 2 + 3 \\times 5 + 4 \\times 0)x^2 + (7 \\times 3 + 5 \\times 4 + 0 \\times 2)x^3 + (7 \\times 4 + 5 \\times 2)x^4 + (7 \\times 2)x^5$ i.e. \n",
    ">\n",
    ">$6 + 8x + 19x^2 + 41x^3 + 38x^4 + 14x^5$\n",
    "> \n",
    ">It can be represented by the list `[6, 8, 19, 41, 38, 14]`.\n"
   ]
  },
  {
   "cell_type": "markdown",
   "id": "lesbian-tyler",
   "metadata": {},
   "source": [
    "## The Method\n",
    "\n",
    "Here's the systematic strategy we'll apply for solving problems:\n",
    "\n",
    "1. State the problem clearly. Identify the input & output formats.\n",
    "2. Come up with some example inputs & outputs. Try to cover all edge cases.\n",
    "3. Come up with a correct solution for the problem. State it in plain English.\n",
    "4. Implement the solution and test it using example inputs. Fix bugs, if any.\n",
    "5. Analyze the algorithm's complexity and identify inefficiencies, if any.\n",
    "6. Apply the right technique to overcome the inefficiency. Repeat steps 3 to 6.\n",
    "\n",
    "This approach is explained in detail in [Lesson 1](https://jovian.ai/learn/data-structures-and-algorithms-in-python/lesson/lesson-1-binary-search-linked-lists-and-complexity) of the course. Let's apply this approach step-by-step."
   ]
  },
  {
   "cell_type": "markdown",
   "id": "assigned-valentine",
   "metadata": {},
   "source": [
    "## Solution\n",
    "\n",
    "\n",
    "### 1. State the problem clearly. Identify the input & output formats.\n",
    "\n",
    "While this problem is stated clearly enough, it's always useful to try and express in your own words, in a way that makes it most clear for you. \n",
    "\n",
    "\n",
    "**Problem**\n",
    "\n",
    "> If you were given two polynomials then how could you write a function to get the result of multiplication of those polynomials!! \n",
    "<br/>\n",
    "\n",
    "\n",
    "**Input**\n",
    "\n",
    "1. A polynomial\n",
    "2. Another polynomial\n",
    "\n",
    "\n",
    "\n",
    "**Output**\n",
    "\n",
    "1. Multiplication of two polynomials\n",
    "\n",
    "\n",
    "<br/>\n",
    "\n",
    "Based on the above, we can now create a signature of our function:"
   ]
  },
  {
   "cell_type": "code",
   "execution_count": 4,
   "id": "advisory-caution",
   "metadata": {},
   "outputs": [],
   "source": [
    "def multiply(poly1, poly2):\n",
    "    pass"
   ]
  },
  {
   "cell_type": "code",
   "execution_count": 5,
   "id": "going-documentation",
   "metadata": {},
   "outputs": [],
   "source": [
    "import jovian"
   ]
  },
  {
   "cell_type": "code",
   "execution_count": 6,
   "id": "dental-organ",
   "metadata": {},
   "outputs": [
    {
     "data": {
      "application/javascript": [
       "window.require && require([\"base/js/namespace\"],function(Jupyter){Jupyter.notebook.save_checkpoint()})"
      ],
      "text/plain": [
       "<IPython.core.display.Javascript object>"
      ]
     },
     "metadata": {},
     "output_type": "display_data"
    },
    {
     "name": "stdout",
     "output_type": "stream",
     "text": [
      "[jovian] Attempting to save notebook..\u001b[0m\n",
      "[jovian] Updating notebook \"mrittrukhuda/python-divide-and-conquer-assignment\" on https://jovian.ai\u001b[0m\n",
      "[jovian] Uploading notebook..\u001b[0m\n",
      "[jovian] Uploading additional files...\u001b[0m\n",
      "[jovian] Committed successfully! https://jovian.ai/mrittrukhuda/python-divide-and-conquer-assignment\u001b[0m\n"
     ]
    },
    {
     "data": {
      "text/plain": [
       "'https://jovian.ai/mrittrukhuda/python-divide-and-conquer-assignment'"
      ]
     },
     "execution_count": 6,
     "metadata": {},
     "output_type": "execute_result"
    }
   ],
   "source": [
    "jovian.commit()"
   ]
  },
  {
   "cell_type": "markdown",
   "id": "selective-limit",
   "metadata": {},
   "source": [
    "### 2. Come up with some example inputs & outputs. Try to cover all edge cases.\n",
    "\n",
    "Our function should be able to handle any set of valid inputs we pass into it. List a few scenarios here:\n",
    "\n",
    "1. mutiplication of two polynomials where first polynomial is zero polynomial or having a constant, 0 only; \n",
    "2. mutiplication of two polynomials where first polynomial is negative!\n",
    "3. two polynomials having degree of polynomial 4.\n",
    "4. multiplication of two quadratic polynomials!\n",
    "5. multiplication of two polynomials, both having a constant only that is the degree of polynomial is 0.\n",
    "6. Two polynomials of different degrees!\n",
    "7. Two empty polynomials!\n",
    "8. One empty polynomial and another populated polynomial!\n",
    "9. Large polynomials!\n",
    "10. large polynomials!\n",
    "\n",
    "\n",
    "(add more if required)\n",
    "\n",
    "\n",
    "Create a test case of each of the above scenarios. We'll express our test cases as dictionaries, to test them easily. Each dictionary will contain 2 keys: `input` (a dictionary itself containing one key for each argument to the function and `output` (the expected result from the function). "
   ]
  },
  {
   "cell_type": "code",
   "execution_count": 9,
   "id": "mechanical-uniform",
   "metadata": {},
   "outputs": [],
   "source": [
    "test0 = {\n",
    "    'input': {\n",
    "        'poly1': [2, 0, 5, 7],\n",
    "        'poly2': [3, 4, 2]\n",
    "    },\n",
    "    'output': [6, 8, 19, 41, 38, 14]\n",
    "}"
   ]
  },
  {
   "cell_type": "code",
   "execution_count": 10,
   "id": "colored-knight",
   "metadata": {},
   "outputs": [],
   "source": [
    "#mutiplication of two polynomials where first polynomial is zero polynomial or having a constant 0 only;\n",
    "test1 = {\n",
    "    'input': {\n",
    "        'poly1': [0],\n",
    "        'poly2': [1, 2, 3]\n",
    "    },\n",
    "    'output': [0, 0, 0]\n",
    "}"
   ]
  },
  {
   "cell_type": "code",
   "execution_count": 11,
   "id": "classified-strap",
   "metadata": {},
   "outputs": [],
   "source": [
    "# mutiplication of two polynomials where first polynomial is negative!\n",
    "test2 = {\n",
    "    'input': {\n",
    "        'poly1': [0, 0, -3],  # where - 3 is the coefficient of indeterminate X^2.\n",
    "        'poly2': [1, 0, 0, 3] # where 3 is the coeffiecient of indeterminate X^3.\n",
    "    },\n",
    "    'output': [0, 0, -3, 0, 0, -9]\n",
    "}"
   ]
  },
  {
   "cell_type": "code",
   "execution_count": 12,
   "id": "typical-offense",
   "metadata": {},
   "outputs": [],
   "source": [
    "#two polynomials having degree of polynomial 4.\n",
    "test3 = {\n",
    "    'input': {\n",
    "        'poly1': [2, 5, 3, 1, -1],\n",
    "        'poly2': [1, 2, 2, 3, 6]\n",
    "    },\n",
    "    'output': [2, 9, 17, 23, 34, 39, 19, 3, -6]\n",
    "}"
   ]
  },
  {
   "cell_type": "code",
   "execution_count": 13,
   "id": "moderate-scout",
   "metadata": {},
   "outputs": [],
   "source": [
    "# multiplication of two quadratic polynomials!\n",
    "test4 = {\n",
    "    'input': {\n",
    "        'poly1': [0, 4, 5],\n",
    "        'poly2': [5, 0, 2]\n",
    "    },\n",
    "    'output': [0, 20, 25, 8, 10]\n",
    "}"
   ]
  },
  {
   "cell_type": "code",
   "execution_count": 14,
   "id": "olympic-hudson",
   "metadata": {},
   "outputs": [],
   "source": [
    "# multiplication of two polynomials, both having a constant only that is the degree of polynomial is 0.\n",
    "\n",
    "test5 = {\n",
    "    'input': {\n",
    "        'poly1': [8],     # that is coeffiecient is 8 and indeterminate x and the exponent of x is 0, which is X^0.\n",
    "        'poly2': [20]\n",
    "    },\n",
    "    'output': [160]\n",
    "}"
   ]
  },
  {
   "cell_type": "code",
   "execution_count": 15,
   "id": "exempt-coalition",
   "metadata": {},
   "outputs": [],
   "source": [
    "# Two polynomials of different degrees!\n",
    "test6={\n",
    "    \"input\": {\n",
    "        \"poly1\": [5, 0, 10, 6],\n",
    "        \"poly2\": [1, 2, 4]\n",
    "    },\n",
    "    \"output\": [5, 10, 30, 26, 52, 24]\n",
    "}"
   ]
  },
  {
   "cell_type": "code",
   "execution_count": 16,
   "id": "liquid-kansas",
   "metadata": {},
   "outputs": [],
   "source": [
    " #empty lists\n",
    "test7={\n",
    "    \"input\": {\n",
    "        \"poly1\": [],\n",
    "        \"poly2\": []\n",
    "    },\n",
    "    \"output\": []\n",
    "}\n"
   ]
  },
  {
   "cell_type": "code",
   "execution_count": 251,
   "id": "returning-orbit",
   "metadata": {},
   "outputs": [],
   "source": [
    " #one polynomial is empty and second polynomial is populated!! \n",
    "#test8 # my note: multiply_basic fails to evaluate it but last two function evaluates it succesfully!! "
   ]
  },
  {
   "cell_type": "code",
   "execution_count": 252,
   "id": "natural-going",
   "metadata": {},
   "outputs": [],
   "source": [
    "# try to multiply large polynomials!!!\n",
    "#test9\n",
    "       # 'poly1': list(range(0,10000)), \n",
    "        #'poly2': list(range(10000,0,-1)) "
   ]
  },
  {
   "cell_type": "code",
   "execution_count": 253,
   "id": "electoral-handle",
   "metadata": {},
   "outputs": [],
   "source": [
    "#test10\n",
    "test10={\n",
    "    \"input\": {\n",
    "    \"poly1\":  [2, 79, -8, -86, 6, -29, 88, -80, 2, 21] ,\n",
    "    \"poly2\": [-26, -13, 16, -1, 3, 51, 30, 49, -48, -99]\n",
    "    },\n",
    "    \"output\":[-52, -2080, -787, 3602, 761, -353, 2336, 2268, 1592, -8683, -12847, 8926, 5350, 2875, -4142, -4144, 8853, -1206, -2079]\n",
    "}"
   ]
  },
  {
   "cell_type": "markdown",
   "id": "incredible-direction",
   "metadata": {},
   "source": [
    "Let's store all the test cases in a list, for easier automated testing."
   ]
  },
  {
   "cell_type": "code",
   "execution_count": 255,
   "id": "productive-affect",
   "metadata": {},
   "outputs": [],
   "source": [
    "tests = [test0, test1, test2, test3, test4, test5, test6, test7, test10]"
   ]
  },
  {
   "cell_type": "code",
   "execution_count": 256,
   "id": "useful-surname",
   "metadata": {},
   "outputs": [
    {
     "data": {
      "text/plain": [
       "[{'input': {'poly1': [2, 0, 5, 7], 'poly2': [3, 4, 2]},\n",
       "  'output': [6, 8, 19, 41, 38, 14]},\n",
       " {'input': {'poly1': [0], 'poly2': [1, 2, 3]}, 'output': [0, 0, 0]},\n",
       " {'input': {'poly1': [0, 0, -3], 'poly2': [1, 0, 0, 3]},\n",
       "  'output': [0, 0, -3, 0, 0, -9]},\n",
       " {'input': {'poly1': [2, 5, 3, 1, -1], 'poly2': [1, 2, 2, 3, 6]},\n",
       "  'output': [2, 9, 17, 23, 34, 39, 19, 3, -6]},\n",
       " {'input': {'poly1': [0, 4, 5], 'poly2': [5, 0, 2]},\n",
       "  'output': [0, 20, 25, 8, 10]},\n",
       " {'input': {'poly1': [8], 'poly2': [20]}, 'output': [160]},\n",
       " {'input': {'poly1': [5, 0, 10, 6], 'poly2': [1, 2, 4]},\n",
       "  'output': [5, 10, 30, 26, 52, 24]},\n",
       " {'input': {'poly1': [], 'poly2': []}, 'output': []},\n",
       " {'input': {'poly1': [2, 79, -8, -86, 6, -29, 88, -80, 2, 21],\n",
       "   'poly2': [-26, -13, 16, -1, 3, 51, 30, 49, -48, -99]},\n",
       "  'output': [-52,\n",
       "   -2080,\n",
       "   -787,\n",
       "   3602,\n",
       "   761,\n",
       "   -353,\n",
       "   2336,\n",
       "   2268,\n",
       "   1592,\n",
       "   -8683,\n",
       "   -12847,\n",
       "   8926,\n",
       "   5350,\n",
       "   2875,\n",
       "   -4142,\n",
       "   -4144,\n",
       "   8853,\n",
       "   -1206,\n",
       "   -2079]}]"
      ]
     },
     "execution_count": 256,
     "metadata": {},
     "output_type": "execute_result"
    }
   ],
   "source": [
    "tests"
   ]
  },
  {
   "cell_type": "code",
   "execution_count": 257,
   "id": "complete-moral",
   "metadata": {},
   "outputs": [],
   "source": [
    "import jovian"
   ]
  },
  {
   "cell_type": "code",
   "execution_count": 258,
   "id": "charming-plumbing",
   "metadata": {},
   "outputs": [
    {
     "data": {
      "application/javascript": [
       "window.require && require([\"base/js/namespace\"],function(Jupyter){Jupyter.notebook.save_checkpoint()})"
      ],
      "text/plain": [
       "<IPython.core.display.Javascript object>"
      ]
     },
     "metadata": {},
     "output_type": "display_data"
    },
    {
     "name": "stdout",
     "output_type": "stream",
     "text": [
      "[jovian] Attempting to save notebook..\u001b[0m\n",
      "[jovian] Updating notebook \"mrittrukhuda/python-divide-and-conquer-assignment\" on https://jovian.ai\u001b[0m\n",
      "[jovian] Uploading notebook..\u001b[0m\n",
      "[jovian] Uploading additional files...\u001b[0m\n",
      "[jovian] Committed successfully! https://jovian.ai/mrittrukhuda/python-divide-and-conquer-assignment\u001b[0m\n"
     ]
    },
    {
     "data": {
      "text/plain": [
       "'https://jovian.ai/mrittrukhuda/python-divide-and-conquer-assignment'"
      ]
     },
     "execution_count": 258,
     "metadata": {},
     "output_type": "execute_result"
    }
   ],
   "source": [
    "jovian.commit()"
   ]
  },
  {
   "cell_type": "markdown",
   "id": "connected-brunei",
   "metadata": {},
   "source": [
    "### 3. Come up with a correct solution for the problem. State it in plain English.\n",
    "\n",
    "Our first goal should always be to come up with a _correct_ solution to the problem, which may not necessarily be the most _efficient_ solution. \n",
    "\n",
    "Here's the simplest solution: If you have lists `poly1` and `poly2` representing polynomials of length $m$ and $n$ respectively, the highest degree of the exponents are $m-1$ and $n-1$ respectively. Their product has the degree $(m - 1) + (n - 1)$ i.e $m + n - 2$. The list representing the product has the length $m + n - 1$. So, we can create a list `result` of length $m + n - 1$, and set \n",
    "\n",
    "`result[k]` = Sum of all the pairs `poly1[i] * poly2[j]` where `i+j = k` \n",
    "Example:\n",
    "\n",
    "$(2 + 5x^2 + 7x^3) \\times (3 + 4x + 2x^2)$\n",
    "\n",
    "$= (2 \\times 3) + (2 \\times 4 + 0 \\times 3)x + (2 \\times 2 + 3 \\times 5 + 4 \\times 0)x^2 + (7 \\times 3 + 5 \\times 4 + 0 \\times 2)x^3 + (7 \\times 4 + 5 \\times 2)x^4 + (7 \\times 2)x^5$\n",
    "\n",
    "$= 6 + 8x + 19x^2 + 41x^3 + 38x^4 + 14x^5$\n",
    "\n",
    "\n",
    "\n",
    "\n",
    "\n",
    "\n",
    "Explain this solution in your own words below:\n",
    "\n",
    "1. Make a function having the arguments poly1, poly2, m, n.\n",
    "2. Since we are gonna multiply ploy1 & poly2; we will have a production; let's say prod[] & it's size/length will be m+n-1 & the degree of of production will be m+n-2.\n",
    "3. Before starting of calculations we will set the value of production 0, so basically we will set prod=[0, 0,....,0]] like this and multiply with its length which is m+n-1.\n",
    "4. Then we will multiply all the terms of ploy1 with all the terms of ploy2 and then we will get the sum after multiplication.Here we will use for loop to iterate over polynomials!\n",
    "5. Atlast Retuen the value of production after calculations!\n",
    "\n",
    "(add more steps if required)\n",
    "\n",
    "\n",
    "Let's save and upload our work before continuing.\n",
    "\n"
   ]
  },
  {
   "cell_type": "code",
   "execution_count": 259,
   "id": "requested-objective",
   "metadata": {},
   "outputs": [],
   "source": [
    "import jovian"
   ]
  },
  {
   "cell_type": "code",
   "execution_count": 260,
   "id": "broad-detail",
   "metadata": {},
   "outputs": [
    {
     "data": {
      "application/javascript": [
       "window.require && require([\"base/js/namespace\"],function(Jupyter){Jupyter.notebook.save_checkpoint()})"
      ],
      "text/plain": [
       "<IPython.core.display.Javascript object>"
      ]
     },
     "metadata": {},
     "output_type": "display_data"
    },
    {
     "name": "stdout",
     "output_type": "stream",
     "text": [
      "[jovian] Attempting to save notebook..\u001b[0m\n",
      "[jovian] Updating notebook \"mrittrukhuda/python-divide-and-conquer-assignment\" on https://jovian.ai\u001b[0m\n",
      "[jovian] Uploading notebook..\u001b[0m\n",
      "[jovian] Uploading additional files...\u001b[0m\n",
      "[jovian] Committed successfully! https://jovian.ai/mrittrukhuda/python-divide-and-conquer-assignment\u001b[0m\n"
     ]
    },
    {
     "data": {
      "text/plain": [
       "'https://jovian.ai/mrittrukhuda/python-divide-and-conquer-assignment'"
      ]
     },
     "execution_count": 260,
     "metadata": {},
     "output_type": "execute_result"
    }
   ],
   "source": [
    "jovian.commit()"
   ]
  },
  {
   "cell_type": "markdown",
   "id": "genetic-stanley",
   "metadata": {},
   "source": [
    "###  4. Implement the solution and test it using example inputs. Fix bugs, if any.\n",
    "\n",
    "Implement the solution"
   ]
  },
  {
   "cell_type": "markdown",
   "id": "structured-skirt",
   "metadata": {},
   "source": [
    "My Note: check this out : 1. https://www.geeksforgeeks.org/multiply-two-polynomials-2/"
   ]
  },
  {
   "cell_type": "code",
   "execution_count": 261,
   "id": "sharp-novel",
   "metadata": {},
   "outputs": [
    {
     "data": {
      "text/plain": [
       "3"
      ]
     },
     "execution_count": 261,
     "metadata": {},
     "output_type": "execute_result"
    }
   ],
   "source": [
    "# my practice!!\n",
    "x1=[1,2, 3]\n",
    "lx1=len(x1)\n",
    "lx1"
   ]
  },
  {
   "cell_type": "code",
   "execution_count": 262,
   "id": "tired-angel",
   "metadata": {},
   "outputs": [],
   "source": [
    "#range(x1)      # i checking  # error comes!"
   ]
  },
  {
   "cell_type": "code",
   "execution_count": 263,
   "id": "close-accounting",
   "metadata": {},
   "outputs": [
    {
     "data": {
      "text/plain": [
       "range(0, 3)"
      ]
     },
     "execution_count": 263,
     "metadata": {},
     "output_type": "execute_result"
    }
   ],
   "source": [
    "range(lx1)"
   ]
  },
  {
   "cell_type": "code",
   "execution_count": 264,
   "id": "dental-training",
   "metadata": {},
   "outputs": [
    {
     "data": {
      "text/plain": [
       "2"
      ]
     },
     "execution_count": 264,
     "metadata": {},
     "output_type": "execute_result"
    }
   ],
   "source": [
    "x2=[4, 5]\n",
    "lx2=len(x2)\n",
    "lx2"
   ]
  },
  {
   "cell_type": "code",
   "execution_count": 265,
   "id": "constitutional-relevance",
   "metadata": {},
   "outputs": [
    {
     "data": {
      "text/plain": [
       "4"
      ]
     },
     "execution_count": 265,
     "metadata": {},
     "output_type": "execute_result"
    }
   ],
   "source": [
    "lx1+lx2-1"
   ]
  },
  {
   "cell_type": "code",
   "execution_count": 266,
   "id": "twenty-panel",
   "metadata": {},
   "outputs": [
    {
     "data": {
      "text/plain": [
       "0"
      ]
     },
     "execution_count": 266,
     "metadata": {},
     "output_type": "execute_result"
    }
   ],
   "source": [
    "0*(lx1+lx2-1)    # i caheckinggg!"
   ]
  },
  {
   "cell_type": "code",
   "execution_count": 267,
   "id": "spatial-shark",
   "metadata": {},
   "outputs": [
    {
     "data": {
      "text/plain": [
       "[0, 0, 0, 0]"
      ]
     },
     "execution_count": 267,
     "metadata": {},
     "output_type": "execute_result"
    }
   ],
   "source": [
    "[0]*(lx1+lx2-1)   # i checkingggg!"
   ]
  },
  {
   "cell_type": "code",
   "execution_count": 268,
   "id": "innovative-merit",
   "metadata": {},
   "outputs": [],
   "source": [
    "def multiply_basic(poly1, poly2):\n",
    "    m=len(poly1)\n",
    "    n=len(poly2)\n",
    "    prod =[0]*(m+n-1)                  #m+n-1 is the length of production of poly1 & poly2!\n",
    "    for i in range(m):                  # m=len(poly1) & n=len(ploy2)\n",
    "        for j in range(n):\n",
    "            prod[i+j] += poly1[i]* poly2[j]         #prod[i+j]=prod[i+j]+poly1[i]*ploy2[j]\n",
    "    return prod\n",
    "    "
   ]
  },
  {
   "cell_type": "markdown",
   "id": "practical-zealand",
   "metadata": {},
   "source": [
    "My Note: in multiply_basic functions you can handle all the edge cases! cause the like of product says something very specific...thast is  prod =[0]*(m+n-1)!"
   ]
  },
  {
   "cell_type": "markdown",
   "id": "designed-restriction",
   "metadata": {},
   "source": [
    "Test your solution using the test cases you've defined above."
   ]
  },
  {
   "cell_type": "code",
   "execution_count": 269,
   "id": "parliamentary-allergy",
   "metadata": {},
   "outputs": [
    {
     "data": {
      "text/plain": [
       "{'input': {'poly1': [2, 0, 5, 7], 'poly2': [3, 4, 2]},\n",
       " 'output': [6, 8, 19, 41, 38, 14]}"
      ]
     },
     "execution_count": 269,
     "metadata": {},
     "output_type": "execute_result"
    }
   ],
   "source": [
    "test0"
   ]
  },
  {
   "cell_type": "code",
   "execution_count": 270,
   "id": "through-galaxy",
   "metadata": {},
   "outputs": [
    {
     "data": {
      "text/plain": [
       "{'poly1': [2, 0, 5, 7], 'poly2': [3, 4, 2]}"
      ]
     },
     "execution_count": 270,
     "metadata": {},
     "output_type": "execute_result"
    }
   ],
   "source": [
    "test0[\"input\"]"
   ]
  },
  {
   "cell_type": "code",
   "execution_count": 271,
   "id": "excess-prompt",
   "metadata": {},
   "outputs": [
    {
     "data": {
      "text/plain": [
       "[2, 0, 5, 7]"
      ]
     },
     "execution_count": 271,
     "metadata": {},
     "output_type": "execute_result"
    }
   ],
   "source": [
    "test0[\"input\"][\"poly1\"]"
   ]
  },
  {
   "cell_type": "code",
   "execution_count": 272,
   "id": "apart-packet",
   "metadata": {},
   "outputs": [
    {
     "data": {
      "text/plain": [
       "[3, 4, 2]"
      ]
     },
     "execution_count": 272,
     "metadata": {},
     "output_type": "execute_result"
    }
   ],
   "source": [
    "test0[\"input\"][\"poly2\"]"
   ]
  },
  {
   "cell_type": "code",
   "execution_count": 273,
   "id": "cosmetic-council",
   "metadata": {},
   "outputs": [
    {
     "data": {
      "text/plain": [
       "[6, 8, 19, 41, 38, 14]"
      ]
     },
     "execution_count": 273,
     "metadata": {},
     "output_type": "execute_result"
    }
   ],
   "source": [
    "multiply_basic(test0[\"input\"][\"poly1\"], test0[\"input\"][\"poly2\"])"
   ]
  },
  {
   "cell_type": "markdown",
   "id": "hairy-input",
   "metadata": {},
   "source": [
    "My Note: The error that i encountered: https://stackoverflow.com/questions/1098643/indexerror-list-index-out-of-range-and-python"
   ]
  },
  {
   "cell_type": "code",
   "execution_count": 274,
   "id": "political-dream",
   "metadata": {},
   "outputs": [
    {
     "data": {
      "text/plain": [
       "{'input': {'poly1': [0], 'poly2': [1, 2, 3]}, 'output': [0, 0, 0]}"
      ]
     },
     "execution_count": 274,
     "metadata": {},
     "output_type": "execute_result"
    }
   ],
   "source": [
    "test1"
   ]
  },
  {
   "cell_type": "code",
   "execution_count": 275,
   "id": "aggregate-worcester",
   "metadata": {},
   "outputs": [
    {
     "data": {
      "text/plain": [
       "{'poly1': [0], 'poly2': [1, 2, 3]}"
      ]
     },
     "execution_count": 275,
     "metadata": {},
     "output_type": "execute_result"
    }
   ],
   "source": [
    " test1[\"input\"]"
   ]
  },
  {
   "cell_type": "code",
   "execution_count": 276,
   "id": "civilian-crawford",
   "metadata": {},
   "outputs": [
    {
     "data": {
      "text/plain": [
       "[0]"
      ]
     },
     "execution_count": 276,
     "metadata": {},
     "output_type": "execute_result"
    }
   ],
   "source": [
    "test1[\"input\"][\"poly1\"]"
   ]
  },
  {
   "cell_type": "code",
   "execution_count": 277,
   "id": "effective-israel",
   "metadata": {},
   "outputs": [
    {
     "data": {
      "text/plain": [
       "1"
      ]
     },
     "execution_count": 277,
     "metadata": {},
     "output_type": "execute_result"
    }
   ],
   "source": [
    "m=len(test1[\"input\"][\"poly1\"])\n",
    "m"
   ]
  },
  {
   "cell_type": "code",
   "execution_count": 278,
   "id": "prescription-python",
   "metadata": {},
   "outputs": [
    {
     "data": {
      "text/plain": [
       "3"
      ]
     },
     "execution_count": 278,
     "metadata": {},
     "output_type": "execute_result"
    }
   ],
   "source": [
    "n=len(test1[\"input\"][\"poly2\"])\n",
    "n"
   ]
  },
  {
   "cell_type": "code",
   "execution_count": 279,
   "id": "close-rapid",
   "metadata": {},
   "outputs": [
    {
     "name": "stdout",
     "output_type": "stream",
     "text": [
      "CPU times: user 7 µs, sys: 2 µs, total: 9 µs\n",
      "Wall time: 11.2 µs\n"
     ]
    },
    {
     "data": {
      "text/plain": [
       "[0, 0, 0]"
      ]
     },
     "execution_count": 279,
     "metadata": {},
     "output_type": "execute_result"
    }
   ],
   "source": [
    "%%time\n",
    "multiply_basic(test1[\"input\"][\"poly1\"],test1[\"input\"][\"poly2\"])"
   ]
  },
  {
   "cell_type": "code",
   "execution_count": 280,
   "id": "surprised-officer",
   "metadata": {},
   "outputs": [],
   "source": [
    "from jovian.pythondsa import evaluate_test_cases\n",
    "from jovian.pythondsa import evaluate_test_case\n"
   ]
  },
  {
   "cell_type": "code",
   "execution_count": 281,
   "id": "legendary-paintball",
   "metadata": {},
   "outputs": [
    {
     "name": "stdout",
     "output_type": "stream",
     "text": [
      "\n",
      "Input:\n",
      "{'poly1': [0], 'poly2': [1, 2, 3]}\n",
      "\n",
      "Expected Output:\n",
      "[0, 0, 0]\n",
      "\n",
      "\n",
      "Actual Output:\n",
      "[0, 0, 0]\n",
      "\n",
      "Execution Time:\n",
      "0.007 ms\n",
      "\n",
      "Test Result:\n",
      "\u001b[92mPASSED\u001b[0m\n",
      "\n"
     ]
    },
    {
     "data": {
      "text/plain": [
       "([0, 0, 0], True, 0.007)"
      ]
     },
     "execution_count": 281,
     "metadata": {},
     "output_type": "execute_result"
    }
   ],
   "source": [
    "evaluate_test_case(multiply_basic, test1)"
   ]
  },
  {
   "cell_type": "code",
   "execution_count": 282,
   "id": "numeric-perry",
   "metadata": {},
   "outputs": [
    {
     "name": "stdout",
     "output_type": "stream",
     "text": [
      "\n",
      "Input:\n",
      "{'poly1': [0, 0, -3], 'poly2': [1, 0, 0, 3]}\n",
      "\n",
      "Expected Output:\n",
      "[0, 0, -3, 0, 0, -9]\n",
      "\n",
      "\n",
      "Actual Output:\n",
      "[0, 0, -3, 0, 0, -9]\n",
      "\n",
      "Execution Time:\n",
      "0.01 ms\n",
      "\n",
      "Test Result:\n",
      "\u001b[92mPASSED\u001b[0m\n",
      "\n"
     ]
    },
    {
     "data": {
      "text/plain": [
       "([0, 0, -3, 0, 0, -9], True, 0.01)"
      ]
     },
     "execution_count": 282,
     "metadata": {},
     "output_type": "execute_result"
    }
   ],
   "source": [
    "evaluate_test_case(multiply_basic, test2)"
   ]
  },
  {
   "cell_type": "code",
   "execution_count": 283,
   "id": "christian-bottle",
   "metadata": {},
   "outputs": [
    {
     "name": "stdout",
     "output_type": "stream",
     "text": [
      "\n",
      "Input:\n",
      "{'poly1': [5, 0, 10, 6], 'poly2': [1, 2, 4]}\n",
      "\n",
      "Expected Output:\n",
      "[5, 10, 30, 26, 52, 24]\n",
      "\n",
      "\n",
      "Actual Output:\n",
      "[5, 10, 30, 26, 52, 24]\n",
      "\n",
      "Execution Time:\n",
      "0.015 ms\n",
      "\n",
      "Test Result:\n",
      "\u001b[92mPASSED\u001b[0m\n",
      "\n"
     ]
    },
    {
     "data": {
      "text/plain": [
       "([5, 10, 30, 26, 52, 24], True, 0.015)"
      ]
     },
     "execution_count": 283,
     "metadata": {},
     "output_type": "execute_result"
    }
   ],
   "source": [
    "evaluate_test_case(multiply_basic, test6)"
   ]
  },
  {
   "cell_type": "code",
   "execution_count": 284,
   "id": "expired-smith",
   "metadata": {},
   "outputs": [
    {
     "name": "stdout",
     "output_type": "stream",
     "text": [
      "\n",
      "\u001b[1mTEST CASE #0\u001b[0m\n",
      "\n",
      "Input:\n",
      "{'poly1': [2, 0, 5, 7], 'poly2': [3, 4, 2]}\n",
      "\n",
      "Expected Output:\n",
      "[6, 8, 19, 41, 38, 14]\n",
      "\n",
      "\n",
      "Actual Output:\n",
      "[6, 8, 19, 41, 38, 14]\n",
      "\n",
      "Execution Time:\n",
      "0.01 ms\n",
      "\n",
      "Test Result:\n",
      "\u001b[92mPASSED\u001b[0m\n",
      "\n",
      "\n",
      "\u001b[1mTEST CASE #1\u001b[0m\n",
      "\n",
      "Input:\n",
      "{'poly1': [0], 'poly2': [1, 2, 3]}\n",
      "\n",
      "Expected Output:\n",
      "[0, 0, 0]\n",
      "\n",
      "\n",
      "Actual Output:\n",
      "[0, 0, 0]\n",
      "\n",
      "Execution Time:\n",
      "0.007 ms\n",
      "\n",
      "Test Result:\n",
      "\u001b[92mPASSED\u001b[0m\n",
      "\n",
      "\n",
      "\u001b[1mTEST CASE #2\u001b[0m\n",
      "\n",
      "Input:\n",
      "{'poly1': [0, 0, -3], 'poly2': [1, 0, 0, 3]}\n",
      "\n",
      "Expected Output:\n",
      "[0, 0, -3, 0, 0, -9]\n",
      "\n",
      "\n",
      "Actual Output:\n",
      "[0, 0, -3, 0, 0, -9]\n",
      "\n",
      "Execution Time:\n",
      "0.006 ms\n",
      "\n",
      "Test Result:\n",
      "\u001b[92mPASSED\u001b[0m\n",
      "\n",
      "\n",
      "\u001b[1mTEST CASE #3\u001b[0m\n",
      "\n",
      "Input:\n",
      "{'poly1': [2, 5, 3, 1, -1], 'poly2': [1, 2, 2, 3, 6]}\n",
      "\n",
      "Expected Output:\n",
      "[2, 9, 17, 23, 34, 39, 19, 3, -6]\n",
      "\n",
      "\n",
      "Actual Output:\n",
      "[2, 9, 17, 23, 34, 39, 19, 3, -6]\n",
      "\n",
      "Execution Time:\n",
      "0.009 ms\n",
      "\n",
      "Test Result:\n",
      "\u001b[92mPASSED\u001b[0m\n",
      "\n",
      "\n",
      "\u001b[1mTEST CASE #4\u001b[0m\n",
      "\n",
      "Input:\n",
      "{'poly1': [0, 4, 5], 'poly2': [5, 0, 2]}\n",
      "\n",
      "Expected Output:\n",
      "[0, 20, 25, 8, 10]\n",
      "\n",
      "\n",
      "Actual Output:\n",
      "[0, 20, 25, 8, 10]\n",
      "\n",
      "Execution Time:\n",
      "0.007 ms\n",
      "\n",
      "Test Result:\n",
      "\u001b[92mPASSED\u001b[0m\n",
      "\n",
      "\n",
      "\u001b[1mTEST CASE #5\u001b[0m\n",
      "\n",
      "Input:\n",
      "{'poly1': [8], 'poly2': [20]}\n",
      "\n",
      "Expected Output:\n",
      "[160]\n",
      "\n",
      "\n",
      "Actual Output:\n",
      "[160]\n",
      "\n",
      "Execution Time:\n",
      "0.006 ms\n",
      "\n",
      "Test Result:\n",
      "\u001b[92mPASSED\u001b[0m\n",
      "\n",
      "\n",
      "\u001b[1mTEST CASE #6\u001b[0m\n",
      "\n",
      "Input:\n",
      "{'poly1': [5, 0, 10, 6], 'poly2': [1, 2, 4]}\n",
      "\n",
      "Expected Output:\n",
      "[5, 10, 30, 26, 52, 24]\n",
      "\n",
      "\n",
      "Actual Output:\n",
      "[5, 10, 30, 26, 52, 24]\n",
      "\n",
      "Execution Time:\n",
      "0.006 ms\n",
      "\n",
      "Test Result:\n",
      "\u001b[92mPASSED\u001b[0m\n",
      "\n",
      "\n",
      "\u001b[1mTEST CASE #7\u001b[0m\n",
      "\n",
      "Input:\n",
      "{'poly1': [], 'poly2': []}\n",
      "\n",
      "Expected Output:\n",
      "[]\n",
      "\n",
      "\n",
      "Actual Output:\n",
      "[]\n",
      "\n",
      "Execution Time:\n",
      "0.002 ms\n",
      "\n",
      "Test Result:\n",
      "\u001b[92mPASSED\u001b[0m\n",
      "\n",
      "\n",
      "\u001b[1mTEST CASE #8\u001b[0m\n",
      "\n",
      "Input:\n",
      "{'poly1': [2, 79, -8, -86, 6, -29, 88, -80, 2, 21], 'poly2': [-26, -13, 16, -1, 3, 51, 30, 49, -48, ...\n",
      "\n",
      "Expected Output:\n",
      "[-52, -2080, -787, 3602, 761, -353, 2336, 2268, 1592, -8683, -12847, 8926, 5350, 2875, -4142, -4144,...\n",
      "\n",
      "\n",
      "Actual Output:\n",
      "[-52, -2080, -787, 3602, 761, -353, 2336, 2268, 1592, -8683, -12847, 8926, 5350, 2875, -4142, -4144,...\n",
      "\n",
      "Execution Time:\n",
      "0.034 ms\n",
      "\n",
      "Test Result:\n",
      "\u001b[92mPASSED\u001b[0m\n",
      "\n",
      "\n",
      "\u001b[1mSUMMARY\u001b[0m\n",
      "\n",
      "TOTAL: 9, \u001b[92mPASSED\u001b[0m: 9, \u001b[91mFAILED\u001b[0m: 0\n"
     ]
    },
    {
     "data": {
      "text/plain": [
       "[([6, 8, 19, 41, 38, 14], True, 0.01),\n",
       " ([0, 0, 0], True, 0.007),\n",
       " ([0, 0, -3, 0, 0, -9], True, 0.006),\n",
       " ([2, 9, 17, 23, 34, 39, 19, 3, -6], True, 0.009),\n",
       " ([0, 20, 25, 8, 10], True, 0.007),\n",
       " ([160], True, 0.006),\n",
       " ([5, 10, 30, 26, 52, 24], True, 0.006),\n",
       " ([], True, 0.002),\n",
       " ([-52,\n",
       "   -2080,\n",
       "   -787,\n",
       "   3602,\n",
       "   761,\n",
       "   -353,\n",
       "   2336,\n",
       "   2268,\n",
       "   1592,\n",
       "   -8683,\n",
       "   -12847,\n",
       "   8926,\n",
       "   5350,\n",
       "   2875,\n",
       "   -4142,\n",
       "   -4144,\n",
       "   8853,\n",
       "   -1206,\n",
       "   -2079],\n",
       "  True,\n",
       "  0.034)]"
      ]
     },
     "execution_count": 284,
     "metadata": {},
     "output_type": "execute_result"
    }
   ],
   "source": [
    "evaluate_test_cases(multiply_basic, tests)"
   ]
  },
  {
   "cell_type": "code",
   "execution_count": null,
   "id": "biological-peace",
   "metadata": {},
   "outputs": [],
   "source": []
  },
  {
   "cell_type": "code",
   "execution_count": 285,
   "id": "chronic-competition",
   "metadata": {},
   "outputs": [],
   "source": [
    "import jovian"
   ]
  },
  {
   "cell_type": "code",
   "execution_count": 286,
   "id": "located-drinking",
   "metadata": {},
   "outputs": [
    {
     "data": {
      "application/javascript": [
       "window.require && require([\"base/js/namespace\"],function(Jupyter){Jupyter.notebook.save_checkpoint()})"
      ],
      "text/plain": [
       "<IPython.core.display.Javascript object>"
      ]
     },
     "metadata": {},
     "output_type": "display_data"
    },
    {
     "name": "stdout",
     "output_type": "stream",
     "text": [
      "[jovian] Attempting to save notebook..\u001b[0m\n",
      "[jovian] Updating notebook \"mrittrukhuda/python-divide-and-conquer-assignment\" on https://jovian.ai\u001b[0m\n",
      "[jovian] Uploading notebook..\u001b[0m\n",
      "[jovian] Uploading additional files...\u001b[0m\n",
      "[jovian] Committed successfully! https://jovian.ai/mrittrukhuda/python-divide-and-conquer-assignment\u001b[0m\n"
     ]
    },
    {
     "data": {
      "text/plain": [
       "'https://jovian.ai/mrittrukhuda/python-divide-and-conquer-assignment'"
      ]
     },
     "execution_count": 286,
     "metadata": {},
     "output_type": "execute_result"
    }
   ],
   "source": [
    "jovian.commit()"
   ]
  },
  {
   "cell_type": "markdown",
   "id": "fifteen-hindu",
   "metadata": {},
   "source": [
    "### 5. Analyze the algorithm's complexity and identify inefficiencies, if any.\n",
    "\n",
    "Can you analyze the time and space complexity of this algorithm?"
   ]
  },
  {
   "cell_type": "markdown",
   "id": "relevant-drinking",
   "metadata": {},
   "source": [
    "My Note: Time complexity of the above solution is O(mn). If size of two polynomials same, then time complexity is O(n2)."
   ]
  },
  {
   "cell_type": "code",
   "execution_count": 287,
   "id": "charged-architecture",
   "metadata": {},
   "outputs": [],
   "source": [
    "multiply_basic_time_complexity = 'O(m*n)'"
   ]
  },
  {
   "cell_type": "code",
   "execution_count": 288,
   "id": "innocent-nicaragua",
   "metadata": {},
   "outputs": [],
   "source": [
    "multiply_basic_space_complexity = 'O(n)'"
   ]
  },
  {
   "cell_type": "code",
   "execution_count": null,
   "id": "typical-status",
   "metadata": {},
   "outputs": [],
   "source": []
  },
  {
   "cell_type": "code",
   "execution_count": 289,
   "id": "federal-double",
   "metadata": {},
   "outputs": [],
   "source": [
    "import jovian"
   ]
  },
  {
   "cell_type": "code",
   "execution_count": 290,
   "id": "preliminary-great",
   "metadata": {},
   "outputs": [
    {
     "data": {
      "application/javascript": [
       "window.require && require([\"base/js/namespace\"],function(Jupyter){Jupyter.notebook.save_checkpoint()})"
      ],
      "text/plain": [
       "<IPython.core.display.Javascript object>"
      ]
     },
     "metadata": {},
     "output_type": "display_data"
    },
    {
     "name": "stdout",
     "output_type": "stream",
     "text": [
      "[jovian] Attempting to save notebook..\u001b[0m\n",
      "[jovian] Updating notebook \"mrittrukhuda/python-divide-and-conquer-assignment\" on https://jovian.ai\u001b[0m\n",
      "[jovian] Uploading notebook..\u001b[0m\n",
      "[jovian] Uploading additional files...\u001b[0m\n",
      "[jovian] Committed successfully! https://jovian.ai/mrittrukhuda/python-divide-and-conquer-assignment\u001b[0m\n"
     ]
    },
    {
     "data": {
      "text/plain": [
       "'https://jovian.ai/mrittrukhuda/python-divide-and-conquer-assignment'"
      ]
     },
     "execution_count": 290,
     "metadata": {},
     "output_type": "execute_result"
    }
   ],
   "source": [
    "jovian.commit()"
   ]
  },
  {
   "cell_type": "markdown",
   "id": "seasonal-testament",
   "metadata": {},
   "source": [
    "### 6. Apply the right technique to overcome the inefficiency. Repeat steps 3 to 6.\n",
    "\n",
    "We can apply the divide and conquer technique to solve this problem more efficiently. Given two polynomials `A` and `B`, we can express each of them as a sum of two polynomials as follows:\n",
    "\n",
    "<img src=\"https://i.imgur.com/FjKQF5h.png\" width=\"480\">\n",
    "\n",
    "We need to compute the terms `A0 * B0`, `A1 * B0 + A0 * B1` and `A1 * B1`. This can obviously be done using 4 multiplications, but here's a way of doing it with just three multiplications:\n",
    "\n",
    "<img src=\"https://i.imgur.com/G3vD1GX.png\" width=\"480\">\n",
    "\n",
    "\n",
    "Each of the products can themselves be computed recursively. For a more detailed explanation of this approach see http://www.cse.ust.hk/~dekai/271/notes/L03/L03.pdf .\n",
    "\n",
    "\n",
    "Need help? Discuss and ask questions on the forum: https://jovian.ai/forum/c/data-structures-and-algorithms-in-python/assignment-3/89\n"
   ]
  },
  {
   "cell_type": "markdown",
   "id": "surrounded-mobility",
   "metadata": {},
   "source": [
    "My Note: https://www.geeksforgeeks.org/divide-and-conquer-algorithm-introduction/"
   ]
  },
  {
   "cell_type": "markdown",
   "id": "standing-survival",
   "metadata": {},
   "source": [
    "### 7. Come up with a correct solution for the problem. State it in plain English.\n",
    "\n",
    "Explain the approach described above in your own words below:\n",
    "\n",
    "1. At first divide /split the two polynomials.\n",
    "2. if the length of any of polynomials is small(in this case length 1), then we will return the product after multiplying the small polynomial with all the elements of second polynomial.\n",
    "3. if point 2 is not true then we will calculate the A0*B0, A0*B1, A1*B0, A1*B1 using recursion.\n",
    "4. And after calculation we will combine all the values.\n",
    "5. Then we will return product/ multiplication of two polynomials!\n",
    "\n",
    "(add more steps if required)\n",
    "\n",
    "\n",
    "Let's save and upload our work before continuing."
   ]
  },
  {
   "cell_type": "code",
   "execution_count": 291,
   "id": "rough-stations",
   "metadata": {},
   "outputs": [],
   "source": [
    "import jovian"
   ]
  },
  {
   "cell_type": "code",
   "execution_count": 292,
   "id": "beginning-criticism",
   "metadata": {},
   "outputs": [
    {
     "data": {
      "application/javascript": [
       "window.require && require([\"base/js/namespace\"],function(Jupyter){Jupyter.notebook.save_checkpoint()})"
      ],
      "text/plain": [
       "<IPython.core.display.Javascript object>"
      ]
     },
     "metadata": {},
     "output_type": "display_data"
    },
    {
     "name": "stdout",
     "output_type": "stream",
     "text": [
      "[jovian] Attempting to save notebook..\u001b[0m\n",
      "[jovian] Updating notebook \"mrittrukhuda/python-divide-and-conquer-assignment\" on https://jovian.ai\u001b[0m\n",
      "[jovian] Uploading notebook..\u001b[0m\n",
      "[jovian] Uploading additional files...\u001b[0m\n",
      "[jovian] Committed successfully! https://jovian.ai/mrittrukhuda/python-divide-and-conquer-assignment\u001b[0m\n"
     ]
    },
    {
     "data": {
      "text/plain": [
       "'https://jovian.ai/mrittrukhuda/python-divide-and-conquer-assignment'"
      ]
     },
     "execution_count": 292,
     "metadata": {},
     "output_type": "execute_result"
    }
   ],
   "source": [
    "jovian.commit()"
   ]
  },
  {
   "cell_type": "markdown",
   "id": "processed-island",
   "metadata": {},
   "source": [
    "### 8. Implement the solution and test it using example inputs. Fix bugs, if any.\n",
    "\n",
    "We are now ready to implement the solution. You may find the following functions `add`, `split` and `increase_exponent` useful.\n"
   ]
  },
  {
   "cell_type": "code",
   "execution_count": 293,
   "id": "portuguese-costs",
   "metadata": {},
   "outputs": [],
   "source": [
    "#my practice!\n",
    "y1=[3, 4, 6, 1]\n",
    "y2=[2, 6, 4]"
   ]
  },
  {
   "cell_type": "code",
   "execution_count": 294,
   "id": "cleared-attention",
   "metadata": {},
   "outputs": [
    {
     "data": {
      "text/plain": [
       "4"
      ]
     },
     "execution_count": 294,
     "metadata": {},
     "output_type": "execute_result"
    }
   ],
   "source": [
    "len(y1)"
   ]
  },
  {
   "cell_type": "code",
   "execution_count": 295,
   "id": "metric-correlation",
   "metadata": {},
   "outputs": [
    {
     "data": {
      "text/plain": [
       "3"
      ]
     },
     "execution_count": 295,
     "metadata": {},
     "output_type": "execute_result"
    }
   ],
   "source": [
    "len(y2)"
   ]
  },
  {
   "cell_type": "code",
   "execution_count": 296,
   "id": "wireless-passing",
   "metadata": {},
   "outputs": [
    {
     "data": {
      "text/plain": [
       "4"
      ]
     },
     "execution_count": 296,
     "metadata": {},
     "output_type": "execute_result"
    }
   ],
   "source": [
    "max(len(y1), len(y2))"
   ]
  },
  {
   "cell_type": "code",
   "execution_count": 297,
   "id": "separate-spokesman",
   "metadata": {},
   "outputs": [
    {
     "data": {
      "text/plain": [
       "[0, 0, 0, 0]"
      ]
     },
     "execution_count": 297,
     "metadata": {},
     "output_type": "execute_result"
    }
   ],
   "source": [
    "[0]*max(len(y1), len(y2))   \n",
    "#My Note: try adding two olynomials you will understand why we are taking max of two polynomials!!"
   ]
  },
  {
   "cell_type": "markdown",
   "id": "visible-acquisition",
   "metadata": {},
   "source": [
    "My Note: how to add two polynomials: https://tutorialspoint.dev/algorithm/mathematical-algorithms/program-add-two-polynomials"
   ]
  },
  {
   "cell_type": "code",
   "execution_count": 298,
   "id": "incorporated-thomson",
   "metadata": {},
   "outputs": [],
   "source": [
    "def add(poly1, poly2):\n",
    "    \"\"\"Add two polynomials\"\"\"\n",
    "    result = [0] * max(len(poly1), len(poly2))\n",
    "    for i in range(len(result)):\n",
    "        if i < len(poly1):\n",
    "            result[i] += poly1[i]\n",
    "        if i < len(poly2):\n",
    "            result[i] += poly2[i]\n",
    "    return result"
   ]
  },
  {
   "cell_type": "code",
   "execution_count": 299,
   "id": "adjustable-highway",
   "metadata": {},
   "outputs": [],
   "source": [
    "#polynomials subtraction\n",
    "def sub(poly1, poly2):\n",
    "    \"\"\"subtract two polynomials\"\"\"\n",
    "    result = [0] * max(len(poly1), len(poly2))\n",
    "    for i in range(len(result)):\n",
    "        if i < len(poly1):\n",
    "            result[i] += poly1[i]\n",
    "        if i < len(poly2):\n",
    "            result[i] -= poly2[i]\n",
    "    return result"
   ]
  },
  {
   "cell_type": "code",
   "execution_count": 300,
   "id": "driven-priority",
   "metadata": {},
   "outputs": [
    {
     "data": {
      "text/plain": [
       "[1, 6, 6, 4]"
      ]
     },
     "execution_count": 300,
     "metadata": {},
     "output_type": "execute_result"
    }
   ],
   "source": [
    "add([1, 2, 3, 4], [0, 4, 3])"
   ]
  },
  {
   "cell_type": "code",
   "execution_count": 301,
   "id": "graphic-tribe",
   "metadata": {},
   "outputs": [
    {
     "data": {
      "text/plain": [
       "[1, -2, 0, 4]"
      ]
     },
     "execution_count": 301,
     "metadata": {},
     "output_type": "execute_result"
    }
   ],
   "source": [
    "sub([1, 2, 3, 4], [0, 4,3])"
   ]
  },
  {
   "cell_type": "code",
   "execution_count": 302,
   "id": "forward-alignment",
   "metadata": {},
   "outputs": [
    {
     "data": {
      "text/plain": [
       "2.0"
      ]
     },
     "execution_count": 302,
     "metadata": {},
     "output_type": "execute_result"
    }
   ],
   "source": [
    "# my prcatice!!\n",
    "max(len(y1), len(y2))/2"
   ]
  },
  {
   "cell_type": "code",
   "execution_count": 303,
   "id": "professional-reaction",
   "metadata": {},
   "outputs": [
    {
     "data": {
      "text/plain": [
       "2"
      ]
     },
     "execution_count": 303,
     "metadata": {},
     "output_type": "execute_result"
    }
   ],
   "source": [
    "# my prcatice!!      #floor division\n",
    "max(len(y1), len(y2))//2"
   ]
  },
  {
   "cell_type": "code",
   "execution_count": 304,
   "id": "correct-physics",
   "metadata": {},
   "outputs": [
    {
     "data": {
      "text/plain": [
       "[3, 4]"
      ]
     },
     "execution_count": 304,
     "metadata": {},
     "output_type": "execute_result"
    }
   ],
   "source": [
    "mid=max(len(y1), len(y2))//2    #my practice!\n",
    "y1[:mid]"
   ]
  },
  {
   "cell_type": "code",
   "execution_count": 305,
   "id": "separated-guide",
   "metadata": {},
   "outputs": [
    {
     "data": {
      "text/plain": [
       "[6, 1]"
      ]
     },
     "execution_count": 305,
     "metadata": {},
     "output_type": "execute_result"
    }
   ],
   "source": [
    "y1[mid:]    # i checking"
   ]
  },
  {
   "cell_type": "code",
   "execution_count": 306,
   "id": "integrated-newspaper",
   "metadata": {},
   "outputs": [],
   "source": [
    "def split(poly1, poly2):\n",
    "    \"\"\"Split each polynomial into two smaller polynomials\"\"\"\n",
    "    mid = max(len(poly1), len(poly2)) // 2\n",
    "    return  (poly1[:mid], poly1[mid:]), (poly2[:mid], poly2[mid:])"
   ]
  },
  {
   "cell_type": "code",
   "execution_count": 307,
   "id": "fifth-lending",
   "metadata": {},
   "outputs": [
    {
     "data": {
      "text/plain": [
       "(([1, 2, 3], [4]), ([0, 4, 3], [6, 7, 8, 2]))"
      ]
     },
     "execution_count": 307,
     "metadata": {},
     "output_type": "execute_result"
    }
   ],
   "source": [
    "split([1, 2, 3, 4], [0, 4, 3, 6, 7, 8, 2])"
   ]
  },
  {
   "cell_type": "code",
   "execution_count": 308,
   "id": "complimentary-listening",
   "metadata": {},
   "outputs": [],
   "source": [
    "def increase_exponent(poly, n):\n",
    "    \"\"\"Multiply poly1 by x^n\"\"\"\n",
    "    return [0] * n + poly"
   ]
  },
  {
   "cell_type": "code",
   "execution_count": 309,
   "id": "stuck-founder",
   "metadata": {},
   "outputs": [
    {
     "data": {
      "text/plain": [
       "[0, 0, 0, 1, 2, 3, 4]"
      ]
     },
     "execution_count": 309,
     "metadata": {},
     "output_type": "execute_result"
    }
   ],
   "source": [
    "increase_exponent([1, 2, 3, 4], 3)"
   ]
  },
  {
   "cell_type": "markdown",
   "id": "occupational-wells",
   "metadata": {},
   "source": [
    "Implement the optimized multiplication algorithm below. You may use the some or all of the helper functions defined above."
   ]
  },
  {
   "cell_type": "code",
   "execution_count": 310,
   "id": "critical-universe",
   "metadata": {},
   "outputs": [
    {
     "name": "stdout",
     "output_type": "stream",
     "text": [
      "[3, 4, 6, 1]\n"
     ]
    }
   ],
   "source": [
    "# my practice!!\n",
    "if len(y1)<=1 or len(y2)<=1:\n",
    "    pass\n",
    "else:\n",
    "    print(y1)"
   ]
  },
  {
   "cell_type": "code",
   "execution_count": 311,
   "id": "basic-individual",
   "metadata": {},
   "outputs": [
    {
     "name": "stdout",
     "output_type": "stream",
     "text": [
      "[3, 4, 6, 1] [2, 6, 4]\n"
     ]
    }
   ],
   "source": [
    "# my practice!!\n",
    "if len(y1)<=1 or len(y2)<=1:\n",
    "    pass\n",
    "else:\n",
    "    print(y1, y2)"
   ]
  },
  {
   "cell_type": "code",
   "execution_count": 312,
   "id": "linear-character",
   "metadata": {},
   "outputs": [],
   "source": [
    "# my practice!!\n",
    "def to_check(x, y):\n",
    "    if len(y1)<=1 or len(y2)<=1:\n",
    "        pass\n",
    "    else: \n",
    "        return y1, y2"
   ]
  },
  {
   "cell_type": "code",
   "execution_count": 313,
   "id": "abstract-discount",
   "metadata": {},
   "outputs": [
    {
     "data": {
      "text/plain": [
       "([3, 4, 6, 1], [2, 6, 4])"
      ]
     },
     "execution_count": 313,
     "metadata": {},
     "output_type": "execute_result"
    }
   ],
   "source": [
    "to_check(y1, y2)"
   ]
  },
  {
   "cell_type": "code",
   "execution_count": 314,
   "id": "median-wildlife",
   "metadata": {},
   "outputs": [
    {
     "data": {
      "text/plain": [
       "(([3, 4], [6, 1]), ([2, 6], [4]))"
      ]
     },
     "execution_count": 314,
     "metadata": {},
     "output_type": "execute_result"
    }
   ],
   "source": [
    "split(y1,y2)"
   ]
  },
  {
   "cell_type": "code",
   "execution_count": 315,
   "id": "prospective-mentor",
   "metadata": {},
   "outputs": [
    {
     "data": {
      "text/plain": [
       "([3, 4], [6, 1])"
      ]
     },
     "execution_count": 315,
     "metadata": {},
     "output_type": "execute_result"
    }
   ],
   "source": [
    "split(y1, y2)[0]"
   ]
  },
  {
   "cell_type": "code",
   "execution_count": 316,
   "id": "faced-aaron",
   "metadata": {},
   "outputs": [
    {
     "data": {
      "text/plain": [
       "[3, 4]"
      ]
     },
     "execution_count": 316,
     "metadata": {},
     "output_type": "execute_result"
    }
   ],
   "source": [
    "A, B=split(y1, y2)\n",
    "A[0]"
   ]
  },
  {
   "cell_type": "code",
   "execution_count": 317,
   "id": "cleared-relation",
   "metadata": {},
   "outputs": [
    {
     "data": {
      "text/plain": [
       "[]"
      ]
     },
     "execution_count": 317,
     "metadata": {},
     "output_type": "execute_result"
    }
   ],
   "source": [
    "0*y1"
   ]
  },
  {
   "cell_type": "code",
   "execution_count": 318,
   "id": "graphic-mirror",
   "metadata": {},
   "outputs": [
    {
     "data": {
      "text/plain": [
       "0"
      ]
     },
     "execution_count": 318,
     "metadata": {},
     "output_type": "execute_result"
    }
   ],
   "source": [
    "len([])"
   ]
  },
  {
   "cell_type": "code",
   "execution_count": 319,
   "id": "arbitrary-merchant",
   "metadata": {},
   "outputs": [
    {
     "data": {
      "text/plain": [
       "0"
      ]
     },
     "execution_count": 319,
     "metadata": {},
     "output_type": "execute_result"
    }
   ],
   "source": [
    "y3=[]\n",
    "len(y3)"
   ]
  },
  {
   "cell_type": "code",
   "execution_count": 320,
   "id": "embedded-banner",
   "metadata": {},
   "outputs": [
    {
     "data": {
      "text/plain": [
       "[[], [], [], []]"
      ]
     },
     "execution_count": 320,
     "metadata": {},
     "output_type": "execute_result"
    }
   ],
   "source": [
    "[y3*y1[i] for i in range(len(y1))]"
   ]
  },
  {
   "cell_type": "code",
   "execution_count": 321,
   "id": "severe-payday",
   "metadata": {},
   "outputs": [
    {
     "data": {
      "text/plain": [
       "[0, 0, 0, 0]"
      ]
     },
     "execution_count": 321,
     "metadata": {},
     "output_type": "execute_result"
    }
   ],
   "source": [
    "[0*y1[i] for i in range(len(y1))]"
   ]
  },
  {
   "cell_type": "code",
   "execution_count": 322,
   "id": "fleet-system",
   "metadata": {},
   "outputs": [
    {
     "data": {
      "text/plain": [
       "[[], [], [], []]"
      ]
     },
     "execution_count": 322,
     "metadata": {},
     "output_type": "execute_result"
    }
   ],
   "source": [
    "[[]*y1[i] for i in range(len(y1))]"
   ]
  },
  {
   "cell_type": "code",
   "execution_count": 323,
   "id": "genuine-paint",
   "metadata": {},
   "outputs": [],
   "source": [
    "# my practice!!\n",
    "def multiply_divide_conquer1(poly1, poly2): \n",
    "    if len(poly1)==0:\n",
    "        product= [poly1* poly2[i] for i in range(len(poly2))]\n",
    "    elif len(poly2)==0:\n",
    "        product=[poly2* poly1[i] for i in range(len(poly1))]\n",
    "    \n",
    "    elif len(poly1)==1:\n",
    "        product=[poly1[0]*poly2[i] for i in range(len(poly2))]\n",
    "       \n",
    "    elif len(poly2)==1:\n",
    "        product=[poly2[0]*poly1[i] for i in range(len(poly1))]\n",
    "    \n",
    "       \n",
    "    else:\n",
    "        n=max(len(poly1), len(poly2))\n",
    "        A, B=split(poly1, poly2)\n",
    "        u=multiply_divide_conquer1(A[0], B[0])\n",
    "        v=multiply_divide_conquer1(A[0], B[1])\n",
    "        w=multiply_divide_conquer1(A[1], B[0])\n",
    "        z=multiply_divide_conquer1(A[1], B[1])\n",
    "    \n",
    "        product=add(u,add(increase_exponent(add(v,w),n//2), increase_exponent(z,2*(n//2))))\n",
    "        \n",
    "    return product"
   ]
  },
  {
   "cell_type": "code",
   "execution_count": 324,
   "id": "actual-repeat",
   "metadata": {
    "scrolled": true
   },
   "outputs": [
    {
     "name": "stdout",
     "output_type": "stream",
     "text": [
      "\n",
      "Input:\n",
      "{'poly1': [0], 'poly2': [1, 2, 3]}\n",
      "\n",
      "Expected Output:\n",
      "[0, 0, 0]\n",
      "\n",
      "\n",
      "Actual Output:\n",
      "[0, 0, 0]\n",
      "\n",
      "Execution Time:\n",
      "0.011 ms\n",
      "\n",
      "Test Result:\n",
      "\u001b[92mPASSED\u001b[0m\n",
      "\n"
     ]
    },
    {
     "data": {
      "text/plain": [
       "([0, 0, 0], True, 0.011)"
      ]
     },
     "execution_count": 324,
     "metadata": {},
     "output_type": "execute_result"
    }
   ],
   "source": [
    "evaluate_test_case(multiply_divide_conquer1, test1)"
   ]
  },
  {
   "cell_type": "code",
   "execution_count": 325,
   "id": "cardiovascular-transfer",
   "metadata": {},
   "outputs": [
    {
     "name": "stdout",
     "output_type": "stream",
     "text": [
      "\n",
      "Input:\n",
      "{'poly1': [], 'poly2': [5, 7, 3]}\n",
      "\n",
      "Expected Output:\n",
      "[[], [], []]\n",
      "\n",
      "\n",
      "Actual Output:\n",
      "[[], [], []]\n",
      "\n",
      "Execution Time:\n",
      "0.008 ms\n",
      "\n",
      "Test Result:\n",
      "\u001b[92mPASSED\u001b[0m\n",
      "\n"
     ]
    },
    {
     "data": {
      "text/plain": [
       "([[], [], []], True, 0.008)"
      ]
     },
     "execution_count": 325,
     "metadata": {},
     "output_type": "execute_result"
    }
   ],
   "source": [
    "evaluate_test_case(multiply_divide_conquer1, test8)"
   ]
  },
  {
   "cell_type": "code",
   "execution_count": 326,
   "id": "greenhouse-violation",
   "metadata": {},
   "outputs": [
    {
     "name": "stdout",
     "output_type": "stream",
     "text": [
      "\n",
      "Input:\n",
      "{'poly1': [], 'poly2': []}\n",
      "\n",
      "Expected Output:\n",
      "[]\n",
      "\n",
      "\n",
      "Actual Output:\n",
      "[]\n",
      "\n",
      "Execution Time:\n",
      "0.005 ms\n",
      "\n",
      "Test Result:\n",
      "\u001b[92mPASSED\u001b[0m\n",
      "\n"
     ]
    },
    {
     "data": {
      "text/plain": [
       "([], True, 0.005)"
      ]
     },
     "execution_count": 326,
     "metadata": {},
     "output_type": "execute_result"
    }
   ],
   "source": [
    "evaluate_test_case(multiply_divide_conquer1, test7)"
   ]
  },
  {
   "cell_type": "code",
   "execution_count": 327,
   "id": "differential-greece",
   "metadata": {
    "scrolled": true
   },
   "outputs": [
    {
     "name": "stdout",
     "output_type": "stream",
     "text": [
      "\n",
      "Input:\n",
      "{'poly1': [2, 0, 5, 7], 'poly2': [3, 4, 2]}\n",
      "\n",
      "Expected Output:\n",
      "[6, 8, 19, 41, 38, 14]\n",
      "\n",
      "\n",
      "Actual Output:\n",
      "[6, 8, 19, 41, 38, 14]\n",
      "\n",
      "Execution Time:\n",
      "0.052 ms\n",
      "\n",
      "Test Result:\n",
      "\u001b[92mPASSED\u001b[0m\n",
      "\n"
     ]
    },
    {
     "data": {
      "text/plain": [
       "([6, 8, 19, 41, 38, 14], True, 0.052)"
      ]
     },
     "execution_count": 327,
     "metadata": {},
     "output_type": "execute_result"
    }
   ],
   "source": [
    "evaluate_test_case(multiply_divide_conquer1, test0)"
   ]
  },
  {
   "cell_type": "code",
   "execution_count": 328,
   "id": "smart-mitchell",
   "metadata": {},
   "outputs": [
    {
     "name": "stdout",
     "output_type": "stream",
     "text": [
      "\n",
      "Input:\n",
      "{'poly1': [0, 4, 5], 'poly2': [5, 0, 2]}\n",
      "\n",
      "Expected Output:\n",
      "[0, 20, 25, 8, 10]\n",
      "\n",
      "\n",
      "Actual Output:\n",
      "[0, 20, 25, 8, 10]\n",
      "\n",
      "Execution Time:\n",
      "0.043 ms\n",
      "\n",
      "Test Result:\n",
      "\u001b[92mPASSED\u001b[0m\n",
      "\n"
     ]
    },
    {
     "data": {
      "text/plain": [
       "([0, 20, 25, 8, 10], True, 0.043)"
      ]
     },
     "execution_count": 328,
     "metadata": {},
     "output_type": "execute_result"
    }
   ],
   "source": [
    "evaluate_test_case(multiply_divide_conquer1, test4)"
   ]
  },
  {
   "cell_type": "code",
   "execution_count": 329,
   "id": "usual-filter",
   "metadata": {},
   "outputs": [
    {
     "name": "stdout",
     "output_type": "stream",
     "text": [
      "\n",
      "Input:\n",
      "{'poly1': [5, 0, 10, 6], 'poly2': [1, 2, 4]}\n",
      "\n",
      "Expected Output:\n",
      "[5, 10, 30, 26, 52, 24]\n",
      "\n",
      "\n",
      "Actual Output:\n",
      "[5, 10, 30, 26, 52, 24]\n",
      "\n",
      "Execution Time:\n",
      "0.048 ms\n",
      "\n",
      "Test Result:\n",
      "\u001b[92mPASSED\u001b[0m\n",
      "\n"
     ]
    },
    {
     "data": {
      "text/plain": [
       "([5, 10, 30, 26, 52, 24], True, 0.048)"
      ]
     },
     "execution_count": 329,
     "metadata": {},
     "output_type": "execute_result"
    }
   ],
   "source": [
    "evaluate_test_case(multiply_divide_conquer1, test6)"
   ]
  },
  {
   "cell_type": "code",
   "execution_count": 330,
   "id": "configured-pressing",
   "metadata": {},
   "outputs": [
    {
     "name": "stdout",
     "output_type": "stream",
     "text": [
      "\n",
      "Input:\n",
      "{'poly1': [2, 5, 3, 1, -1], 'poly2': [1, 2, 2, 3, 6]}\n",
      "\n",
      "Expected Output:\n",
      "[2, 9, 17, 23, 34, 39, 19, 3, -6]\n",
      "\n",
      "\n",
      "Actual Output:\n",
      "[2, 9, 17, 23, 34, 39, 19, 3, -6]\n",
      "\n",
      "Execution Time:\n",
      "0.083 ms\n",
      "\n",
      "Test Result:\n",
      "\u001b[92mPASSED\u001b[0m\n",
      "\n"
     ]
    },
    {
     "data": {
      "text/plain": [
       "([2, 9, 17, 23, 34, 39, 19, 3, -6], True, 0.083)"
      ]
     },
     "execution_count": 330,
     "metadata": {},
     "output_type": "execute_result"
    }
   ],
   "source": [
    "evaluate_test_case(multiply_divide_conquer1, test3)"
   ]
  },
  {
   "cell_type": "code",
   "execution_count": 331,
   "id": "hairy-tracker",
   "metadata": {},
   "outputs": [
    {
     "name": "stdout",
     "output_type": "stream",
     "text": [
      "\n",
      "Input:\n",
      "{'poly1': [8], 'poly2': [20]}\n",
      "\n",
      "Expected Output:\n",
      "[160]\n",
      "\n",
      "\n",
      "Actual Output:\n",
      "[160]\n",
      "\n",
      "Execution Time:\n",
      "0.01 ms\n",
      "\n",
      "Test Result:\n",
      "\u001b[92mPASSED\u001b[0m\n",
      "\n"
     ]
    },
    {
     "data": {
      "text/plain": [
       "([160], True, 0.01)"
      ]
     },
     "execution_count": 331,
     "metadata": {},
     "output_type": "execute_result"
    }
   ],
   "source": [
    "evaluate_test_case(multiply_divide_conquer1, test5)"
   ]
  },
  {
   "cell_type": "code",
   "execution_count": 332,
   "id": "specified-johns",
   "metadata": {},
   "outputs": [
    {
     "name": "stdout",
     "output_type": "stream",
     "text": [
      "\n",
      "\u001b[1mTEST CASE #0\u001b[0m\n",
      "\n",
      "Input:\n",
      "{'poly1': [2, 0, 5, 7], 'poly2': [3, 4, 2]}\n",
      "\n",
      "Expected Output:\n",
      "[6, 8, 19, 41, 38, 14]\n",
      "\n",
      "\n",
      "Actual Output:\n",
      "[6, 8, 19, 41, 38, 14]\n",
      "\n",
      "Execution Time:\n",
      "0.054 ms\n",
      "\n",
      "Test Result:\n",
      "\u001b[92mPASSED\u001b[0m\n",
      "\n",
      "\n",
      "\u001b[1mTEST CASE #1\u001b[0m\n",
      "\n",
      "Input:\n",
      "{'poly1': [0], 'poly2': [1, 2, 3]}\n",
      "\n",
      "Expected Output:\n",
      "[0, 0, 0]\n",
      "\n",
      "\n",
      "Actual Output:\n",
      "[0, 0, 0]\n",
      "\n",
      "Execution Time:\n",
      "0.008 ms\n",
      "\n",
      "Test Result:\n",
      "\u001b[92mPASSED\u001b[0m\n",
      "\n",
      "\n",
      "\u001b[1mTEST CASE #2\u001b[0m\n",
      "\n",
      "Input:\n",
      "{'poly1': [0, 0, -3], 'poly2': [1, 0, 0, 3]}\n",
      "\n",
      "Expected Output:\n",
      "[0, 0, -3, 0, 0, -9]\n",
      "\n",
      "\n",
      "Actual Output:\n",
      "[0, 0, -3, 0, 0, -9]\n",
      "\n",
      "Execution Time:\n",
      "0.045 ms\n",
      "\n",
      "Test Result:\n",
      "\u001b[92mPASSED\u001b[0m\n",
      "\n",
      "\n",
      "\u001b[1mTEST CASE #3\u001b[0m\n",
      "\n",
      "Input:\n",
      "{'poly1': [2, 5, 3, 1, -1], 'poly2': [1, 2, 2, 3, 6]}\n",
      "\n",
      "Expected Output:\n",
      "[2, 9, 17, 23, 34, 39, 19, 3, -6]\n",
      "\n",
      "\n",
      "Actual Output:\n",
      "[2, 9, 17, 23, 34, 39, 19, 3, -6]\n",
      "\n",
      "Execution Time:\n",
      "0.107 ms\n",
      "\n",
      "Test Result:\n",
      "\u001b[92mPASSED\u001b[0m\n",
      "\n",
      "\n",
      "\u001b[1mTEST CASE #4\u001b[0m\n",
      "\n",
      "Input:\n",
      "{'poly1': [0, 4, 5], 'poly2': [5, 0, 2]}\n",
      "\n",
      "Expected Output:\n",
      "[0, 20, 25, 8, 10]\n",
      "\n",
      "\n",
      "Actual Output:\n",
      "[0, 20, 25, 8, 10]\n",
      "\n",
      "Execution Time:\n",
      "0.028 ms\n",
      "\n",
      "Test Result:\n",
      "\u001b[92mPASSED\u001b[0m\n",
      "\n",
      "\n",
      "\u001b[1mTEST CASE #5\u001b[0m\n",
      "\n",
      "Input:\n",
      "{'poly1': [8], 'poly2': [20]}\n",
      "\n",
      "Expected Output:\n",
      "[160]\n",
      "\n",
      "\n",
      "Actual Output:\n",
      "[160]\n",
      "\n",
      "Execution Time:\n",
      "0.003 ms\n",
      "\n",
      "Test Result:\n",
      "\u001b[92mPASSED\u001b[0m\n",
      "\n",
      "\n",
      "\u001b[1mTEST CASE #6\u001b[0m\n",
      "\n",
      "Input:\n",
      "{'poly1': [5, 0, 10, 6], 'poly2': [1, 2, 4]}\n",
      "\n",
      "Expected Output:\n",
      "[5, 10, 30, 26, 52, 24]\n",
      "\n",
      "\n",
      "Actual Output:\n",
      "[5, 10, 30, 26, 52, 24]\n",
      "\n",
      "Execution Time:\n",
      "0.035 ms\n",
      "\n",
      "Test Result:\n",
      "\u001b[92mPASSED\u001b[0m\n",
      "\n",
      "\n",
      "\u001b[1mTEST CASE #7\u001b[0m\n",
      "\n",
      "Input:\n",
      "{'poly1': [], 'poly2': []}\n",
      "\n",
      "Expected Output:\n",
      "[]\n",
      "\n",
      "\n",
      "Actual Output:\n",
      "[]\n",
      "\n",
      "Execution Time:\n",
      "0.003 ms\n",
      "\n",
      "Test Result:\n",
      "\u001b[92mPASSED\u001b[0m\n",
      "\n",
      "\n",
      "\u001b[1mTEST CASE #8\u001b[0m\n",
      "\n",
      "Input:\n",
      "{'poly1': [2, 79, -8, -86, 6, -29, 88, -80, 2, 21], 'poly2': [-26, -13, 16, -1, 3, 51, 30, 49, -48, ...\n",
      "\n",
      "Expected Output:\n",
      "[-52, -2080, -787, 3602, 761, -353, 2336, 2268, 1592, -8683, -12847, 8926, 5350, 2875, -4142, -4144,...\n",
      "\n",
      "\n",
      "Actual Output:\n",
      "[-52, -2080, -787, 3602, 761, -353, 2336, 2268, 1592, -8683, -12847, 8926, 5350, 2875, -4142, -4144,...\n",
      "\n",
      "Execution Time:\n",
      "0.305 ms\n",
      "\n",
      "Test Result:\n",
      "\u001b[92mPASSED\u001b[0m\n",
      "\n",
      "\n",
      "\u001b[1mSUMMARY\u001b[0m\n",
      "\n",
      "TOTAL: 9, \u001b[92mPASSED\u001b[0m: 9, \u001b[91mFAILED\u001b[0m: 0\n"
     ]
    },
    {
     "data": {
      "text/plain": [
       "[([6, 8, 19, 41, 38, 14], True, 0.054),\n",
       " ([0, 0, 0], True, 0.008),\n",
       " ([0, 0, -3, 0, 0, -9], True, 0.045),\n",
       " ([2, 9, 17, 23, 34, 39, 19, 3, -6], True, 0.107),\n",
       " ([0, 20, 25, 8, 10], True, 0.028),\n",
       " ([160], True, 0.003),\n",
       " ([5, 10, 30, 26, 52, 24], True, 0.035),\n",
       " ([], True, 0.003),\n",
       " ([-52,\n",
       "   -2080,\n",
       "   -787,\n",
       "   3602,\n",
       "   761,\n",
       "   -353,\n",
       "   2336,\n",
       "   2268,\n",
       "   1592,\n",
       "   -8683,\n",
       "   -12847,\n",
       "   8926,\n",
       "   5350,\n",
       "   2875,\n",
       "   -4142,\n",
       "   -4144,\n",
       "   8853,\n",
       "   -1206,\n",
       "   -2079],\n",
       "  True,\n",
       "  0.305)]"
      ]
     },
     "execution_count": 332,
     "metadata": {},
     "output_type": "execute_result"
    }
   ],
   "source": [
    "evaluate_test_cases(multiply_divide_conquer1, tests)"
   ]
  },
  {
   "cell_type": "code",
   "execution_count": 333,
   "id": "featured-offset",
   "metadata": {},
   "outputs": [],
   "source": [
    "#improved divide and conquer appraoch!\n",
    "def multiply_optimized(poly1, poly2):\n",
    "    \n",
    "    if len(poly1)==0:\n",
    "        product= [poly1* poly2[i] for i in range(len(poly2))]\n",
    "    elif len(poly2)==0:\n",
    "        product=[poly2* poly1[i] for i in range(len(poly1))]\n",
    "    \n",
    "    elif len(poly1)==1:\n",
    "        product=[poly1[0]*poly2[i] for i in range(len(poly2))]\n",
    "       \n",
    "    elif len(poly2)==1:\n",
    "        product=[poly2[0]*poly1[i] for i in range(len(poly1))]\n",
    "       \n",
    "    else:\n",
    "        n=max(len(poly1), len(poly2))    \n",
    "        A, B=split(poly1, poly2)\n",
    "        y=multiply_optimized(add(A[0],A[1]),add(B[0],B[1]))\n",
    "        u=multiply_optimized(A[0], B[0])\n",
    "        z=multiply_optimized(A[1], B[1])\n",
    "        \n",
    "        x1=u\n",
    "        x2=increase_exponent(sub(y,add(u, z)), n//2)\n",
    "        x3=increase_exponent(z, 2*(n//2))\n",
    "        product=add(x1, add(x2, x3))\n",
    "    return product\n",
    "        "
   ]
  },
  {
   "cell_type": "markdown",
   "id": "editorial-package",
   "metadata": {},
   "source": [
    "My Note: The error that i encountered: https://stackoverflow.com/questions/26685679/typeerror-unsupported-operand-types-for-list-and-list\n",
    "\n",
    "My Note: You can not add lists just by using + sign (e.g. between two polynomials) or subtract using - sign or multiply using * sign only. "
   ]
  },
  {
   "cell_type": "markdown",
   "id": "golden-photograph",
   "metadata": {},
   "source": [
    "Test your solution using the empty cells below."
   ]
  },
  {
   "cell_type": "code",
   "execution_count": 334,
   "id": "graphic-developer",
   "metadata": {},
   "outputs": [
    {
     "name": "stdout",
     "output_type": "stream",
     "text": [
      "\n",
      "Input:\n",
      "{'poly1': [0], 'poly2': [1, 2, 3]}\n",
      "\n",
      "Expected Output:\n",
      "[0, 0, 0]\n",
      "\n",
      "\n",
      "Actual Output:\n",
      "[0, 0, 0]\n",
      "\n",
      "Execution Time:\n",
      "0.011 ms\n",
      "\n",
      "Test Result:\n",
      "\u001b[92mPASSED\u001b[0m\n",
      "\n"
     ]
    },
    {
     "data": {
      "text/plain": [
       "([0, 0, 0], True, 0.011)"
      ]
     },
     "execution_count": 334,
     "metadata": {},
     "output_type": "execute_result"
    }
   ],
   "source": [
    "evaluate_test_case(multiply_optimized, test1)"
   ]
  },
  {
   "cell_type": "code",
   "execution_count": 339,
   "id": "cheap-volume",
   "metadata": {},
   "outputs": [
    {
     "name": "stdout",
     "output_type": "stream",
     "text": [
      "\n",
      "Input:\n",
      "{'poly1': [], 'poly2': []}\n",
      "\n",
      "Expected Output:\n",
      "[]\n",
      "\n",
      "\n",
      "Actual Output:\n",
      "[]\n",
      "\n",
      "Execution Time:\n",
      "0.006 ms\n",
      "\n",
      "Test Result:\n",
      "\u001b[92mPASSED\u001b[0m\n",
      "\n"
     ]
    },
    {
     "data": {
      "text/plain": [
       "([], True, 0.006)"
      ]
     },
     "execution_count": 339,
     "metadata": {},
     "output_type": "execute_result"
    }
   ],
   "source": [
    "evaluate_test_case(multiply_optimized, test7)"
   ]
  },
  {
   "cell_type": "code",
   "execution_count": 340,
   "id": "strange-torture",
   "metadata": {},
   "outputs": [
    {
     "name": "stdout",
     "output_type": "stream",
     "text": [
      "\n",
      "Input:\n",
      "{'poly1': [2, 0, 5, 7], 'poly2': [3, 4, 2]}\n",
      "\n",
      "Expected Output:\n",
      "[6, 8, 19, 41, 38, 14]\n",
      "\n",
      "\n",
      "Actual Output:\n",
      "[6, 8, 19, 41, 38, 14]\n",
      "\n",
      "Execution Time:\n",
      "0.064 ms\n",
      "\n",
      "Test Result:\n",
      "\u001b[92mPASSED\u001b[0m\n",
      "\n"
     ]
    },
    {
     "data": {
      "text/plain": [
       "([6, 8, 19, 41, 38, 14], True, 0.064)"
      ]
     },
     "execution_count": 340,
     "metadata": {},
     "output_type": "execute_result"
    }
   ],
   "source": [
    "evaluate_test_case(multiply_optimized, test0)"
   ]
  },
  {
   "cell_type": "code",
   "execution_count": 341,
   "id": "packed-january",
   "metadata": {},
   "outputs": [
    {
     "name": "stdout",
     "output_type": "stream",
     "text": [
      "\n",
      "Input:\n",
      "{'poly1': [0, 0, -3], 'poly2': [1, 0, 0, 3]}\n",
      "\n",
      "Expected Output:\n",
      "[0, 0, -3, 0, 0, -9]\n",
      "\n",
      "\n",
      "Actual Output:\n",
      "[0, 0, -3, 0, 0, -9]\n",
      "\n",
      "Execution Time:\n",
      "0.076 ms\n",
      "\n",
      "Test Result:\n",
      "\u001b[92mPASSED\u001b[0m\n",
      "\n"
     ]
    },
    {
     "data": {
      "text/plain": [
       "([0, 0, -3, 0, 0, -9], True, 0.076)"
      ]
     },
     "execution_count": 341,
     "metadata": {},
     "output_type": "execute_result"
    }
   ],
   "source": [
    "evaluate_test_case(multiply_optimized, test2)"
   ]
  },
  {
   "cell_type": "code",
   "execution_count": 342,
   "id": "offensive-aside",
   "metadata": {},
   "outputs": [
    {
     "name": "stdout",
     "output_type": "stream",
     "text": [
      "\n",
      "Input:\n",
      "{'poly1': [2, 5, 3, 1, -1], 'poly2': [1, 2, 2, 3, 6]}\n",
      "\n",
      "Expected Output:\n",
      "[2, 9, 17, 23, 34, 39, 19, 3, -6]\n",
      "\n",
      "\n",
      "Actual Output:\n",
      "[2, 9, 17, 23, 34, 39, 19, 3, -6]\n",
      "\n",
      "Execution Time:\n",
      "0.133 ms\n",
      "\n",
      "Test Result:\n",
      "\u001b[92mPASSED\u001b[0m\n",
      "\n"
     ]
    },
    {
     "data": {
      "text/plain": [
       "([2, 9, 17, 23, 34, 39, 19, 3, -6], True, 0.133)"
      ]
     },
     "execution_count": 342,
     "metadata": {},
     "output_type": "execute_result"
    }
   ],
   "source": [
    "evaluate_test_case(multiply_optimized, test3)"
   ]
  },
  {
   "cell_type": "code",
   "execution_count": 343,
   "id": "forced-seafood",
   "metadata": {},
   "outputs": [
    {
     "name": "stdout",
     "output_type": "stream",
     "text": [
      "\n",
      "Input:\n",
      "{'poly1': [0, 4, 5], 'poly2': [5, 0, 2]}\n",
      "\n",
      "Expected Output:\n",
      "[0, 20, 25, 8, 10]\n",
      "\n",
      "\n",
      "Actual Output:\n",
      "[0, 20, 25, 8, 10]\n",
      "\n",
      "Execution Time:\n",
      "0.062 ms\n",
      "\n",
      "Test Result:\n",
      "\u001b[92mPASSED\u001b[0m\n",
      "\n"
     ]
    },
    {
     "data": {
      "text/plain": [
       "([0, 20, 25, 8, 10], True, 0.062)"
      ]
     },
     "execution_count": 343,
     "metadata": {},
     "output_type": "execute_result"
    }
   ],
   "source": [
    "evaluate_test_case(multiply_optimized, test4) "
   ]
  },
  {
   "cell_type": "code",
   "execution_count": 344,
   "id": "egyptian-speaking",
   "metadata": {},
   "outputs": [
    {
     "name": "stdout",
     "output_type": "stream",
     "text": [
      "\n",
      "\u001b[1mTEST CASE #0\u001b[0m\n",
      "\n",
      "Input:\n",
      "{'poly1': [2, 0, 5, 7], 'poly2': [3, 4, 2]}\n",
      "\n",
      "Expected Output:\n",
      "[6, 8, 19, 41, 38, 14]\n",
      "\n",
      "\n",
      "Actual Output:\n",
      "[6, 8, 19, 41, 38, 14]\n",
      "\n",
      "Execution Time:\n",
      "0.106 ms\n",
      "\n",
      "Test Result:\n",
      "\u001b[92mPASSED\u001b[0m\n",
      "\n",
      "\n",
      "\u001b[1mTEST CASE #1\u001b[0m\n",
      "\n",
      "Input:\n",
      "{'poly1': [0], 'poly2': [1, 2, 3]}\n",
      "\n",
      "Expected Output:\n",
      "[0, 0, 0]\n",
      "\n",
      "\n",
      "Actual Output:\n",
      "[0, 0, 0]\n",
      "\n",
      "Execution Time:\n",
      "0.006 ms\n",
      "\n",
      "Test Result:\n",
      "\u001b[92mPASSED\u001b[0m\n",
      "\n",
      "\n",
      "\u001b[1mTEST CASE #2\u001b[0m\n",
      "\n",
      "Input:\n",
      "{'poly1': [0, 0, -3], 'poly2': [1, 0, 0, 3]}\n",
      "\n",
      "Expected Output:\n",
      "[0, 0, -3, 0, 0, -9]\n",
      "\n",
      "\n",
      "Actual Output:\n",
      "[0, 0, -3, 0, 0, -9]\n",
      "\n",
      "Execution Time:\n",
      "0.076 ms\n",
      "\n",
      "Test Result:\n",
      "\u001b[92mPASSED\u001b[0m\n",
      "\n",
      "\n",
      "\u001b[1mTEST CASE #3\u001b[0m\n",
      "\n",
      "Input:\n",
      "{'poly1': [2, 5, 3, 1, -1], 'poly2': [1, 2, 2, 3, 6]}\n",
      "\n",
      "Expected Output:\n",
      "[2, 9, 17, 23, 34, 39, 19, 3, -6]\n",
      "\n",
      "\n",
      "Actual Output:\n",
      "[2, 9, 17, 23, 34, 39, 19, 3, -6]\n",
      "\n",
      "Execution Time:\n",
      "0.182 ms\n",
      "\n",
      "Test Result:\n",
      "\u001b[92mPASSED\u001b[0m\n",
      "\n",
      "\n",
      "\u001b[1mTEST CASE #4\u001b[0m\n",
      "\n",
      "Input:\n",
      "{'poly1': [0, 4, 5], 'poly2': [5, 0, 2]}\n",
      "\n",
      "Expected Output:\n",
      "[0, 20, 25, 8, 10]\n",
      "\n",
      "\n",
      "Actual Output:\n",
      "[0, 20, 25, 8, 10]\n",
      "\n",
      "Execution Time:\n",
      "0.068 ms\n",
      "\n",
      "Test Result:\n",
      "\u001b[92mPASSED\u001b[0m\n",
      "\n",
      "\n",
      "\u001b[1mTEST CASE #5\u001b[0m\n",
      "\n",
      "Input:\n",
      "{'poly1': [8], 'poly2': [20]}\n",
      "\n",
      "Expected Output:\n",
      "[160]\n",
      "\n",
      "\n",
      "Actual Output:\n",
      "[160]\n",
      "\n",
      "Execution Time:\n",
      "0.011 ms\n",
      "\n",
      "Test Result:\n",
      "\u001b[92mPASSED\u001b[0m\n",
      "\n",
      "\n",
      "\u001b[1mTEST CASE #6\u001b[0m\n",
      "\n",
      "Input:\n",
      "{'poly1': [5, 0, 10, 6], 'poly2': [1, 2, 4]}\n",
      "\n",
      "Expected Output:\n",
      "[5, 10, 30, 26, 52, 24]\n",
      "\n",
      "\n",
      "Actual Output:\n",
      "[5, 10, 30, 26, 52, 24]\n",
      "\n",
      "Execution Time:\n",
      "0.099 ms\n",
      "\n",
      "Test Result:\n",
      "\u001b[92mPASSED\u001b[0m\n",
      "\n",
      "\n",
      "\u001b[1mTEST CASE #7\u001b[0m\n",
      "\n",
      "Input:\n",
      "{'poly1': [], 'poly2': []}\n",
      "\n",
      "Expected Output:\n",
      "[]\n",
      "\n",
      "\n",
      "Actual Output:\n",
      "[]\n",
      "\n",
      "Execution Time:\n",
      "0.005 ms\n",
      "\n",
      "Test Result:\n",
      "\u001b[92mPASSED\u001b[0m\n",
      "\n",
      "\n",
      "\u001b[1mTEST CASE #8\u001b[0m\n",
      "\n",
      "Input:\n",
      "{'poly1': [2, 79, -8, -86, 6, -29, 88, -80, 2, 21], 'poly2': [-26, -13, 16, -1, 3, 51, 30, 49, -48, ...\n",
      "\n",
      "Expected Output:\n",
      "[-52, -2080, -787, 3602, 761, -353, 2336, 2268, 1592, -8683, -12847, 8926, 5350, 2875, -4142, -4144,...\n",
      "\n",
      "\n",
      "Actual Output:\n",
      "[-52, -2080, -787, 3602, 761, -353, 2336, 2268, 1592, -8683, -12847, 8926, 5350, 2875, -4142, -4144,...\n",
      "\n",
      "Execution Time:\n",
      "0.748 ms\n",
      "\n",
      "Test Result:\n",
      "\u001b[92mPASSED\u001b[0m\n",
      "\n",
      "\n",
      "\u001b[1mSUMMARY\u001b[0m\n",
      "\n",
      "TOTAL: 9, \u001b[92mPASSED\u001b[0m: 9, \u001b[91mFAILED\u001b[0m: 0\n"
     ]
    },
    {
     "data": {
      "text/plain": [
       "[([6, 8, 19, 41, 38, 14], True, 0.106),\n",
       " ([0, 0, 0], True, 0.006),\n",
       " ([0, 0, -3, 0, 0, -9], True, 0.076),\n",
       " ([2, 9, 17, 23, 34, 39, 19, 3, -6], True, 0.182),\n",
       " ([0, 20, 25, 8, 10], True, 0.068),\n",
       " ([160], True, 0.011),\n",
       " ([5, 10, 30, 26, 52, 24], True, 0.099),\n",
       " ([], True, 0.005),\n",
       " ([-52,\n",
       "   -2080,\n",
       "   -787,\n",
       "   3602,\n",
       "   761,\n",
       "   -353,\n",
       "   2336,\n",
       "   2268,\n",
       "   1592,\n",
       "   -8683,\n",
       "   -12847,\n",
       "   8926,\n",
       "   5350,\n",
       "   2875,\n",
       "   -4142,\n",
       "   -4144,\n",
       "   8853,\n",
       "   -1206,\n",
       "   -2079],\n",
       "  True,\n",
       "  0.748)]"
      ]
     },
     "execution_count": 344,
     "metadata": {},
     "output_type": "execute_result"
    }
   ],
   "source": [
    "evaluate_test_cases(multiply_optimized, tests) "
   ]
  },
  {
   "cell_type": "code",
   "execution_count": null,
   "id": "active-birmingham",
   "metadata": {},
   "outputs": [],
   "source": []
  },
  {
   "cell_type": "code",
   "execution_count": 345,
   "id": "african-premiere",
   "metadata": {},
   "outputs": [],
   "source": [
    "import jovian"
   ]
  },
  {
   "cell_type": "code",
   "execution_count": 346,
   "id": "quick-gather",
   "metadata": {},
   "outputs": [
    {
     "data": {
      "application/javascript": [
       "window.require && require([\"base/js/namespace\"],function(Jupyter){Jupyter.notebook.save_checkpoint()})"
      ],
      "text/plain": [
       "<IPython.core.display.Javascript object>"
      ]
     },
     "metadata": {},
     "output_type": "display_data"
    },
    {
     "name": "stdout",
     "output_type": "stream",
     "text": [
      "[jovian] Attempting to save notebook..\u001b[0m\n",
      "[jovian] Updating notebook \"mrittrukhuda/python-divide-and-conquer-assignment\" on https://jovian.ai\u001b[0m\n",
      "[jovian] Uploading notebook..\u001b[0m\n",
      "[jovian] Uploading additional files...\u001b[0m\n",
      "[jovian] Committed successfully! https://jovian.ai/mrittrukhuda/python-divide-and-conquer-assignment\u001b[0m\n"
     ]
    },
    {
     "data": {
      "text/plain": [
       "'https://jovian.ai/mrittrukhuda/python-divide-and-conquer-assignment'"
      ]
     },
     "execution_count": 346,
     "metadata": {},
     "output_type": "execute_result"
    }
   ],
   "source": [
    "jovian.commit()"
   ]
  },
  {
   "cell_type": "markdown",
   "id": "naval-civilization",
   "metadata": {},
   "source": [
    "## Make a Submission\n",
    "\n",
    "Congrats! You have now implemented an algorithm for polynomials multiplication from scratch. The rest of this assignment is optional.\n",
    "\n",
    "You can make a submission on this page: https://jovian.ai/learn/data-structures-and-algorithms-in-python/assignment/assignment-3-sorting-and-divide-conquer-practice\n",
    "\n",
    "Submit the link to your Jovian notebook (the output of the previous cell).\n",
    "You can also make a direct submission by executing the following cell:"
   ]
  },
  {
   "cell_type": "code",
   "execution_count": 347,
   "id": "absolute-advocate",
   "metadata": {},
   "outputs": [
    {
     "data": {
      "application/javascript": [
       "window.require && require([\"base/js/namespace\"],function(Jupyter){Jupyter.notebook.save_checkpoint()})"
      ],
      "text/plain": [
       "<IPython.core.display.Javascript object>"
      ]
     },
     "metadata": {},
     "output_type": "display_data"
    },
    {
     "name": "stdout",
     "output_type": "stream",
     "text": [
      "[jovian] Attempting to save notebook..\u001b[0m\n",
      "[jovian] Updating notebook \"mrittrukhuda/python-divide-and-conquer-assignment\" on https://jovian.ai\u001b[0m\n",
      "[jovian] Uploading notebook..\u001b[0m\n",
      "[jovian] Uploading additional files...\u001b[0m\n",
      "[jovian] Committed successfully! https://jovian.ai/mrittrukhuda/python-divide-and-conquer-assignment\u001b[0m\n",
      "[jovian] Submitting assignment..\u001b[0m\n",
      "[jovian] Verify your submission at https://jovian.ai/learn/data-structures-and-algorithms-in-python/assignment/assignment-3-sorting-and-divide-conquer-practice\u001b[0m\n"
     ]
    }
   ],
   "source": [
    "jovian.submit(assignment=\"pythondsa-assignment3\")"
   ]
  },
  {
   "cell_type": "markdown",
   "id": "weighted-canvas",
   "metadata": {},
   "source": [
    "### (Optional) 9. Analyze the algorithm's complexity and identify inefficiencies, if any.\n",
    "\n",
    "Can you analyze the time and space complexity of this algorithm? \n",
    "\n",
    "Hint: See the tree of subproblems below ([source](https://myithelpcentral.blogspot.com/2015/09/o-logn-notation-explanation-for-binary.html)). Substitute the right values for `n` and `b` to determine the time complexity.\n",
    "\n",
    "![](https://i.imgur.com/JAmZrE5.png)"
   ]
  },
  {
   "cell_type": "code",
   "execution_count": 348,
   "id": "boolean-offering",
   "metadata": {},
   "outputs": [],
   "source": [
    "import jovian"
   ]
  },
  {
   "cell_type": "code",
   "execution_count": null,
   "id": "friendly-latter",
   "metadata": {},
   "outputs": [
    {
     "data": {
      "application/javascript": [
       "window.require && require([\"base/js/namespace\"],function(Jupyter){Jupyter.notebook.save_checkpoint()})"
      ],
      "text/plain": [
       "<IPython.core.display.Javascript object>"
      ]
     },
     "metadata": {},
     "output_type": "display_data"
    },
    {
     "name": "stdout",
     "output_type": "stream",
     "text": [
      "[jovian] Attempting to save notebook..\u001b[0m\n"
     ]
    }
   ],
   "source": [
    "jovian.commit()"
   ]
  },
  {
   "cell_type": "code",
   "execution_count": null,
   "id": "charming-daughter",
   "metadata": {},
   "outputs": [],
   "source": []
  }
 ],
 "metadata": {
  "language_info": {
   "codemirror_mode": {
    "name": "ipython",
    "version": 3
   },
   "file_extension": ".py",
   "mimetype": "text/x-python",
   "name": "python",
   "nbconvert_exporter": "python",
   "pygments_lexer": "ipython3",
   "version": "3.8.6"
  }
 },
 "nbformat": 4,
 "nbformat_minor": 5
}